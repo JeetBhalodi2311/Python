{
 "cells": [
  {
   "cell_type": "markdown",
   "metadata": {},
   "source": [
    "<a href='https://www.darshan.ac.in/'> <img src='https://www.darshan.ac.in/Content/media/DU_Logo.svg' width=\"250\" height=\"300\"/></a>\n",
    "<pre>\n",
    "<center><b><h1>Python Programming - 2301CS404</b></center>\n",
    "<center><b><h1>Lab - 13</b></center>    \n",
    "<pre>"
   ]
  },
  {
   "cell_type": "markdown",
   "metadata": {},
   "source": [
    "# OOP"
   ]
  },
  {
   "cell_type": "markdown",
   "metadata": {},
   "source": [
    "### 01) Write a Program to create a class by name Students, and initialize attributes like name, age, and grade while creating an object."
   ]
  },
  {
   "cell_type": "code",
   "execution_count": 2,
   "metadata": {},
   "outputs": [
    {
     "name": "stdout",
     "output_type": "stream",
     "text": [
      "Name: Jeet\n",
      "Age: 20\n",
      "Grade: A++\n"
     ]
    }
   ],
   "source": [
    "class Students:\n",
    "    def __init__(self, name, age, grade):\n",
    "        self.name = name\n",
    "        self.age = age\n",
    "        self.grade = grade\n",
    "\n",
    "    def display_info(self):\n",
    "        print(f\"Name: {self.name}\")\n",
    "        print(f\"Age: {self.age}\")\n",
    "        print(f\"Grade: {self.grade}\")\n",
    "\n",
    "student1 = Students(\"Jeet\", 20, \"A++\")\n",
    "\n",
    "student1.display_info()"
   ]
  },
  {
   "cell_type": "markdown",
   "metadata": {},
   "source": [
    "### 02) Create a class named Bank_Account with Account_No, User_Name, Email,Account_Type and Account_Balance data members. Also create a method GetAccountDetails() and DisplayAccountDetails(). Create main method to demonstrate the Bank_Account class."
   ]
  },
  {
   "cell_type": "code",
   "execution_count": 4,
   "metadata": {},
   "outputs": [
    {
     "name": "stdin",
     "output_type": "stream",
     "text": [
      "Enter Account Number:  101\n",
      "Enter User Name:  Jeet\n",
      "Enter Email:  jeet242@gmail.com\n",
      "Enter Account Type (Savings/Current):  Current\n",
      "Enter Account Balance:  250000\n"
     ]
    },
    {
     "name": "stdout",
     "output_type": "stream",
     "text": [
      "Account Number: 101\n",
      "User Name: Jeet\n",
      "Email: jeet242@gmail.com\n",
      "Account Type: Current\n",
      "Account Balance: 250000.0\n"
     ]
    }
   ],
   "source": [
    "class Bank_Account:\n",
    "    def __init__(self, Account_No, User_Name, Email, Account_Type, Account_Balance):\n",
    "        self.Account_No = Account_No\n",
    "        self.User_Name = User_Name\n",
    "        self.Email = Email\n",
    "        self.Account_Type = Account_Type\n",
    "        self.Account_Balance = Account_Balance\n",
    "\n",
    "    def GetAccountDetails(self):\n",
    "        self.Account_No = input(\"Enter Account Number: \")\n",
    "        self.User_Name = input(\"Enter User Name: \")\n",
    "        self.Email = input(\"Enter Email: \")\n",
    "        self.Account_Type = input(\"Enter Account Type (Savings/Current): \")\n",
    "        self.Account_Balance = float(input(\"Enter Account Balance: \"))\n",
    "\n",
    "    def DisplayAccountDetails(self):\n",
    "        print(f\"Account Number: {self.Account_No}\")\n",
    "        print(f\"User Name: {self.User_Name}\")\n",
    "        print(f\"Email: {self.Email}\")\n",
    "        print(f\"Account Type: {self.Account_Type}\")\n",
    "        print(f\"Account Balance: {self.Account_Balance}\")\n",
    "\n",
    "def main():\n",
    "    account = Bank_Account(\"\", \"\", \"\", \"\", 0.0)\n",
    "    account.GetAccountDetails()\n",
    "    account.DisplayAccountDetails()\n",
    "\n",
    "if __name__ == \"__main__\":\n",
    "    main()\n"
   ]
  },
  {
   "cell_type": "markdown",
   "metadata": {},
   "source": [
    "### 03) WAP to create Circle class with area and perimeter function to find area and perimeter of circle."
   ]
  },
  {
   "cell_type": "code",
   "execution_count": 6,
   "metadata": {},
   "outputs": [
    {
     "name": "stdout",
     "output_type": "stream",
     "text": [
      "Area of the circle: 78.54\n",
      "Perimeter of the circle: 31.42\n"
     ]
    }
   ],
   "source": [
    "import math\n",
    "\n",
    "class Circle:\n",
    "    def __init__(self, radius):\n",
    "        self.radius = radius\n",
    "\n",
    "    def area(self):\n",
    "        return math.pi * (self.radius ** 2)\n",
    "\n",
    "    def perimeter(self):\n",
    "        return 2 * math.pi * self.radius\n",
    "\n",
    "circle = Circle(5)\n",
    "\n",
    "print(f\"Area of the circle: {circle.area():.2f}\")\n",
    "print(f\"Perimeter of the circle: {circle.perimeter():.2f}\")\n"
   ]
  },
  {
   "cell_type": "markdown",
   "metadata": {},
   "source": [
    "### 04) Create a class for employees that includes attributes such as name, age, salary, and methods to update and display employee information."
   ]
  },
  {
   "cell_type": "code",
   "execution_count": 7,
   "metadata": {},
   "outputs": [
    {
     "name": "stdout",
     "output_type": "stream",
     "text": [
      "Initial Employee Information:\n",
      "Name: Bhavy Bhalodi\n",
      "Age: 19\n",
      "Salary: 50000\n",
      "\n",
      "1) Updated Employee Information:\n",
      "Name: Jeet Bhalodi\n",
      "Age: 20\n",
      "Salary: 95000\n",
      "\n",
      "2) Updated Employee Information:\n",
      "Name: Bhavy Bhalodi\n",
      "Age: 19\n",
      "Salary: 95000\n"
     ]
    }
   ],
   "source": [
    "class Employee:\n",
    "    def __init__(self, name, age, salary):\n",
    "        self.name = name\n",
    "        self.age = age\n",
    "        self.salary = salary\n",
    "\n",
    "    def update_info(self, name=None, age=None, salary=None):\n",
    "        if name:\n",
    "            self.name = name\n",
    "        if age:\n",
    "            self.age = age\n",
    "        if salary:\n",
    "            self.salary = salary\n",
    "\n",
    "    def display_info(self):\n",
    "        print(f\"Name: {self.name}\")\n",
    "        print(f\"Age: {self.age}\")\n",
    "        print(f\"Salary: {self.salary}\")\n",
    "\n",
    "employee = Employee(\"Bhavy Bhalodi\", 19, 50000)\n",
    "\n",
    "print(\"Initial Employee Information:\")\n",
    "employee.display_info()\n",
    "\n",
    "employee.update_info(name=\"Jeet Bhalodi\", age=20, salary=95000)\n",
    "\n",
    "print(\"\\n1) Updated Employee Information:\")\n",
    "employee.display_info()\n",
    "\n",
    "employee.update_info(name=\"Bhavy Bhalodi\", age=19)\n",
    "print(\"\\n2) Updated Employee Information:\")\n",
    "employee.display_info()"
   ]
  },
  {
   "cell_type": "markdown",
   "metadata": {},
   "source": [
    "### 05) Create a bank account class with methods to deposit, withdraw, and check balance."
   ]
  },
  {
   "cell_type": "code",
   "execution_count": 10,
   "metadata": {},
   "outputs": [
    {
     "name": "stdout",
     "output_type": "stream",
     "text": [
      "Deposited 50000 successfully!\n",
      "Withdrew 20000 successfully!\n",
      "Account Balance: 280000\n"
     ]
    }
   ],
   "source": [
    "class BankAccount:\n",
    "    def __init__(self, account_number, account_holder, balance=0):\n",
    "        self.account_number = account_number\n",
    "        self.account_holder = account_holder\n",
    "        self.balance = balance\n",
    "\n",
    "    def deposit(self, amount):\n",
    "        if amount > 0:\n",
    "            self.balance += amount\n",
    "            print(f\"Deposited {amount} successfully!\")\n",
    "        else:\n",
    "            print(\"Deposit amount should be positive.\")\n",
    "\n",
    "    def withdraw(self, amount):\n",
    "        if amount > 0:\n",
    "            if self.balance >= amount:\n",
    "                self.balance -= amount\n",
    "                print(f\"Withdrew {amount} successfully!\")\n",
    "            else:\n",
    "                print(\"Insufficient balance.\")\n",
    "        else:\n",
    "            print(\"Withdrawal amount should be positive.\")\n",
    "\n",
    "    def check_balance(self):\n",
    "        print(f\"Account Balance: {self.balance}\")\n",
    "\n",
    "account = BankAccount(\"820095584\", \"Jeet Bhalodi\", 250000)\n",
    "\n",
    "account.deposit(50000)\n",
    "account.withdraw(20000)\n",
    "account.check_balance()\n"
   ]
  },
  {
   "cell_type": "markdown",
   "metadata": {},
   "source": [
    "### 06) Create a class for managing inventory that includes attributes such as item name, price, quantity, and methods to add, remove, and update items."
   ]
  },
  {
   "cell_type": "code",
   "execution_count": 12,
   "metadata": {},
   "outputs": [
    {
     "name": "stdout",
     "output_type": "stream",
     "text": [
      "Added Laptop successfully!\n",
      "Added Phone successfully!\n",
      "Item: Laptop, Price: 1500, Quantity: 10\n",
      "Item: Phone, Price: 800, Quantity: 20\n",
      "Updated Laptop successfully!\n",
      "Removed Phone successfully!\n",
      "Item: Laptop, Price: 1400, Quantity: 8\n"
     ]
    }
   ],
   "source": [
    "class Inventory:\n",
    "    def __init__(self):\n",
    "        self.items = []\n",
    "\n",
    "    def add_item(self, item_name, price, quantity):\n",
    "        self.items.append({\"item_name\": item_name, \"price\": price, \"quantity\": quantity})\n",
    "        print(f\"Added {item_name} successfully!\")\n",
    "\n",
    "    def remove_item(self, item_name):\n",
    "        for item in self.items:\n",
    "            if item[\"item_name\"] == item_name:\n",
    "                self.items.remove(item)\n",
    "                print(f\"Removed {item_name} successfully!\")\n",
    "                return\n",
    "        print(f\"Item {item_name} not found in inventory.\")\n",
    "\n",
    "    def update_item(self, item_name, price=None, quantity=None):\n",
    "        for item in self.items:\n",
    "            if item[\"item_name\"] == item_name:\n",
    "                if price is not None:\n",
    "                    item[\"price\"] = price\n",
    "                if quantity is not None:\n",
    "                    item[\"quantity\"] = quantity\n",
    "                print(f\"Updated {item_name} successfully!\")\n",
    "                return\n",
    "        print(f\"Item {item_name} not found in inventory.\")\n",
    "\n",
    "    def display_inventory(self):\n",
    "        if not self.items:\n",
    "            print(\"Inventory is empty.\")\n",
    "        else:\n",
    "            for item in self.items:\n",
    "                print(f\"Item: {item['item_name']}, Price: {item['price']}, Quantity: {item['quantity']}\")\n",
    "                \n",
    "inventory = Inventory()\n",
    "\n",
    "inventory.add_item(\"Laptop\", 1500, 10)\n",
    "inventory.add_item(\"Phone\", 800, 20)\n",
    "\n",
    "inventory.display_inventory()\n",
    "\n",
    "inventory.update_item(\"Laptop\", price=1400, quantity=8)\n",
    "\n",
    "inventory.remove_item(\"Phone\")\n",
    "\n",
    "inventory.display_inventory()\n"
   ]
  },
  {
   "cell_type": "markdown",
   "metadata": {},
   "source": [
    "### 07) Create a Class with instance attributes of your choice."
   ]
  },
  {
   "cell_type": "code",
   "execution_count": 14,
   "metadata": {},
   "outputs": [
    {
     "name": "stdout",
     "output_type": "stream",
     "text": [
      "Initial Book Details:\n",
      "Title: 1984\n",
      "Author: George Orwell\n",
      "Year Published: 1949\n",
      "Genre: Dystopian\n",
      "Book information updated successfully!\n",
      "\n",
      "Updated Book Details:\n",
      "Title: Animal Farm\n",
      "Author: George Orwell\n",
      "Year Published: 1945\n",
      "Genre: Dystopian\n"
     ]
    }
   ],
   "source": [
    "class Book:\n",
    "    def __init__(self, title, author, year_published, genre):\n",
    "        self.title = title\n",
    "        self.author = author\n",
    "        self.year_published = year_published\n",
    "        self.genre = genre\n",
    "\n",
    "    def display_details(self):\n",
    "        print(f\"Title: {self.title}\")\n",
    "        print(f\"Author: {self.author}\")\n",
    "        print(f\"Year Published: {self.year_published}\")\n",
    "        print(f\"Genre: {self.genre}\")\n",
    "\n",
    "    def update_info(self, title=None, author=None, year_published=None, genre=None):\n",
    "        if title:\n",
    "            self.title = title\n",
    "        if author:\n",
    "            self.author = author\n",
    "        if year_published:\n",
    "            self.year_published = year_published\n",
    "        if genre:\n",
    "            self.genre = genre\n",
    "        print(\"Book information updated successfully!\")\n",
    "\n",
    "book = Book(\"1984\", \"George Orwell\", 1949, \"Dystopian\")\n",
    "\n",
    "print(\"Initial Book Details:\")\n",
    "book.display_details()\n",
    "\n",
    "book.update_info(title=\"Animal Farm\", year_published=1945)\n",
    "\n",
    "print(\"\\nUpdated Book Details:\")\n",
    "book.display_details()\n"
   ]
  },
  {
   "cell_type": "markdown",
   "metadata": {},
   "source": [
    "### 08) Create one class student_kit\n",
    "#### Within the student_kit class create one class attribute principal name ( Mr ABC )\n",
    "#### Create one attendance method and take input as number of days.\n",
    "#### While creating student take input their name .\n",
    "#### Create one certificate for each student by taking input of number of days present in class."
   ]
  },
  {
   "cell_type": "code",
   "execution_count": 2,
   "metadata": {},
   "outputs": [
    {
     "name": "stdin",
     "output_type": "stream",
     "text": [
      "Enter student name:  Jeet\n",
      "Enter number of days Jeet was present:  286\n"
     ]
    },
    {
     "name": "stdout",
     "output_type": "stream",
     "text": [
      "Certificate of Attendance\n",
      "Principal: Mr. ABC\n",
      "Student Name: Jeet\n",
      "Days Present: 286 days\n"
     ]
    }
   ],
   "source": [
    "class StudentKit:\n",
    "    principal_name = \"Mr. ABC\"\n",
    "\n",
    "    def __init__(self, student_name):\n",
    "        self.student_name = student_name\n",
    "        self.attendance_days = 0\n",
    "\n",
    "    def record_attendance(self, days):\n",
    "        self.attendance_days = days\n",
    "\n",
    "    def generate_certificate(self):\n",
    "        print(f\"Certificate of Attendance\")\n",
    "        print(f\"Principal: {StudentKit.principal_name}\")\n",
    "        print(f\"Student Name: {self.student_name}\")\n",
    "        print(f\"Days Present: {self.attendance_days} days\")\n",
    "\n",
    "student_name = input(\"Enter student name: \")\n",
    "student = StudentKit(student_name)\n",
    "\n",
    "days_present = int(input(f\"Enter number of days {student_name} was present: \"))\n",
    "student.record_attendance(days_present)\n",
    "\n",
    "student.generate_certificate()\n"
   ]
  },
  {
   "cell_type": "markdown",
   "metadata": {},
   "source": [
    "### 09) Define Time class with hour and minute as data member. Also define addition method to add two time objects."
   ]
  },
  {
   "cell_type": "code",
   "execution_count": 18,
   "metadata": {},
   "outputs": [
    {
     "name": "stdout",
     "output_type": "stream",
     "text": [
      "First Time:\n",
      "02:45\n",
      "Second Time:\n",
      "01:30\n",
      "Added Time:\n",
      "04:15\n"
     ]
    }
   ],
   "source": [
    "class Time:\n",
    "    def __init__(self, hour, minute):\n",
    "        self.hour = hour\n",
    "        self.minute = minute\n",
    "\n",
    "    def add_time(self, other_time):\n",
    "        total_minutes = self.minute + other_time.minute\n",
    "        total_hours = self.hour + other_time.hour + (total_minutes // 60)\n",
    "        remaining_minutes = total_minutes % 60\n",
    "\n",
    "        return Time(total_hours % 24, remaining_minutes)\n",
    "\n",
    "    def display_time(self):\n",
    "        print(f\"{self.hour:02}:{self.minute:02}\")\n",
    "\n",
    "time1 = Time(2, 45)\n",
    "time2 = Time(1, 30)\n",
    "\n",
    "added_time = time1.add_time(time2)\n",
    "\n",
    "print(\"First Time:\")\n",
    "time1.display_time()\n",
    "\n",
    "print(\"Second Time:\")\n",
    "time2.display_time()\n",
    "\n",
    "print(\"Added Time:\")\n",
    "added_time.display_time()\n"
   ]
  }
 ],
 "metadata": {
  "kernelspec": {
   "display_name": "Python 3 (ipykernel)",
   "language": "python",
   "name": "python3"
  },
  "language_info": {
   "codemirror_mode": {
    "name": "ipython",
    "version": 3
   },
   "file_extension": ".py",
   "mimetype": "text/x-python",
   "name": "python",
   "nbconvert_exporter": "python",
   "pygments_lexer": "ipython3",
   "version": "3.12.7"
  }
 },
 "nbformat": 4,
 "nbformat_minor": 4
}
