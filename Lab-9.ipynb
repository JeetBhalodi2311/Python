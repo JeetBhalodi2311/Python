{
 "cells": [
  {
   "cell_type": "markdown",
   "metadata": {},
   "source": [
    "<a href='https://www.darshan.ac.in/'> <img src='https://www.darshan.ac.in/Content/media/DU_Logo.svg' width=\"250\" height=\"300\"/></a>\n",
    "<pre>\n",
    "<center><b><h1>Python Programming - 2301CS404</b></center>\n",
    "<center><b><h1>Lab - 9</b></center>    \n",
    "<pre>"
   ]
  },
  {
   "cell_type": "markdown",
   "metadata": {},
   "source": [
    "# File I/O"
   ]
  },
  {
   "cell_type": "markdown",
   "metadata": {},
   "source": [
    "### 01) WAP to read and display the contents of a text file. (also try to open the file in some other directory) \n",
    "#### - in the form of a string\n",
    "#### - line by line\n",
    "#### - in the form of a list"
   ]
  },
  {
   "cell_type": "code",
   "execution_count": 2,
   "metadata": {},
   "outputs": [
    {
     "name": "stdout",
     "output_type": "stream",
     "text": [
      "Contents of the file as a string:\n",
      "My Name Is Jeet.\n",
      "I Study In Darshan University.\n",
      "\n",
      "\n",
      "Contents of the file line by line:\n",
      "My Name Is Jeet.\n",
      "I Study In Darshan University.\n",
      "\n",
      "Contents of the file as a list:\n",
      "['My Name Is Jeet.\\n', 'I Study In Darshan University.']\n"
     ]
    }
   ],
   "source": [
    "file_path = \"1.txt\"\n",
    "\n",
    "with open(file_path, 'r') as file:\n",
    "    file_content_as_string = file.read()\n",
    "print(\"Contents of the file as a string:\")\n",
    "print(file_content_as_string)\n",
    "\n",
    "print(\"\\n\")\n",
    "\n",
    "print(\"Contents of the file line by line:\")\n",
    "with open(file_path, 'r') as file:\n",
    "    for line in file:\n",
    "        print(line, end='')\n",
    "\n",
    "print(\"\\n\")\n",
    "\n",
    "with open(file_path, 'r') as file:\n",
    "    file_content_as_list = file.readlines()\n",
    "print(\"Contents of the file as a list:\")\n",
    "print(file_content_as_list)\n"
   ]
  },
  {
   "cell_type": "markdown",
   "metadata": {},
   "source": [
    "### 02) WAP to create file named \"new.txt\" only if it doesn't exist."
   ]
  },
  {
   "cell_type": "code",
   "execution_count": 3,
   "metadata": {},
   "outputs": [],
   "source": [
    "fp = open('new.txt','w')"
   ]
  },
  {
   "cell_type": "markdown",
   "metadata": {},
   "source": [
    "### 03) WAP to read first 5 lines from the text file."
   ]
  },
  {
   "cell_type": "code",
   "execution_count": 13,
   "metadata": {},
   "outputs": [
    {
     "name": "stdout",
     "output_type": "stream",
     "text": [
      "My Name Is Jeet.\n",
      "I Study In Darshan University.\n",
      "I live in rajkot.\n",
      "Our business in shapar.\n",
      "My village name is anida.\n"
     ]
    }
   ],
   "source": [
    "fp = open('1.txt','r')\n",
    "for i in range(5):\n",
    "    line = fp.readline()\n",
    "    print(line.strip())"
   ]
  },
  {
   "cell_type": "markdown",
   "metadata": {},
   "source": [
    "### 04) WAP to find the longest word(s) in a file"
   ]
  },
  {
   "cell_type": "code",
   "execution_count": 31,
   "metadata": {},
   "outputs": [
    {
     "name": "stdout",
     "output_type": "stream",
     "text": [
      "village\n",
      "['Darshan', 'rajkot.', 'shapar.', 'village']\n"
     ]
    }
   ],
   "source": [
    "fp = open('1.txt','r')\n",
    "word = fp.read().split()\n",
    "\n",
    "longest_word = max(word)\n",
    "print(longest_word)\n",
    "\n",
    "longest_words = [i for i in word if len(i)==len(longest_word)]\n",
    "print(longest_words)"
   ]
  },
  {
   "cell_type": "markdown",
   "metadata": {},
   "source": [
    "### 05) WAP to count the no. of lines, words and characters in a given text file."
   ]
  },
  {
   "cell_type": "code",
   "execution_count": 45,
   "metadata": {},
   "outputs": [
    {
     "name": "stdout",
     "output_type": "stream",
     "text": [
      "Number of lines: 5\n",
      "Number of words: 22\n",
      "Number of characters: 115\n"
     ]
    }
   ],
   "source": [
    "fp = open('1.txt','r')\n",
    "lines = fp.readlines()\n",
    "\n",
    "no_lines = len(lines)\n",
    "\n",
    "no_words = sum(len(i.split()) for i in lines)\n",
    "\n",
    "no_charcters = sum(len(i) for i in lines)\n",
    "\n",
    "print(f\"Number of lines: {no_lines}\")\n",
    "print(f\"Number of words: {no_words}\")\n",
    "print(f\"Number of characters: {no_charcters}\")"
   ]
  },
  {
   "cell_type": "markdown",
   "metadata": {},
   "source": [
    "### 06) WAP to copy the content of a file to the another file."
   ]
  },
  {
   "cell_type": "code",
   "execution_count": 63,
   "metadata": {},
   "outputs": [
    {
     "data": {
      "text/plain": [
       "115"
      ]
     },
     "execution_count": 63,
     "metadata": {},
     "output_type": "execute_result"
    }
   ],
   "source": [
    "fp = open('1.txt','r')\n",
    "content = fp.read()\n",
    "\n",
    "cp = open('copy_1.txt','w')\n",
    "cp.write(content)"
   ]
  },
  {
   "cell_type": "markdown",
   "metadata": {},
   "source": [
    "### 07) WAP to find the size of the text file. "
   ]
  },
  {
   "cell_type": "code",
   "execution_count": 73,
   "metadata": {},
   "outputs": [
    {
     "name": "stdout",
     "output_type": "stream",
     "text": [
      "115\n"
     ]
    }
   ],
   "source": [
    "import os\n",
    "\n",
    "size = os.path.getsize('1.txt')\n",
    "\n",
    "print(size)"
   ]
  },
  {
   "cell_type": "markdown",
   "metadata": {},
   "source": [
    "### 08) WAP to create an UDF named frequency to count occurances of the specific word in a given text file."
   ]
  },
  {
   "cell_type": "code",
   "execution_count": 77,
   "metadata": {},
   "outputs": [
    {
     "name": "stdout",
     "output_type": "stream",
     "text": [
      "2\n"
     ]
    }
   ],
   "source": [
    "def frequency(filename, word):\n",
    "    fp = open(filename,'r')\n",
    "    text = fp.read()\n",
    "    word_count = text.split().count(word)\n",
    "    return word_count\n",
    "\n",
    "print(frequency('1.txt','My'))"
   ]
  },
  {
   "cell_type": "markdown",
   "metadata": {},
   "source": [
    "### 09) WAP to get the score of five subjects from the user, store them in a file. Fetch those marks and find the highest score."
   ]
  },
  {
   "cell_type": "code",
   "execution_count": 88,
   "metadata": {},
   "outputs": [
    {
     "name": "stdout",
     "output_type": "stream",
     "text": [
      "Enter the score for subject 1:  1\n",
      "Enter the score for subject 2:  1\n",
      "Enter the score for subject 3:  1\n",
      "Enter the score for subject 4:  1\n",
      "Enter the score for subject 5:  1\n"
     ]
    },
    {
     "name": "stdout",
     "output_type": "stream",
     "text": [
      "The highest score is: 99\n"
     ]
    }
   ],
   "source": [
    "fp = open('score.txt','w')\n",
    "for i in range(5):\n",
    "    score = input(f\"Enter the score for subject {i + 1}: \")\n",
    "    fp.write(f\"{score}\\n\")\n",
    "\n",
    "fs = open('score.txt','r')\n",
    "scores = [int(i.strip()) for i in fs.readlines()]\n",
    "highest_score = max(scores)\n",
    "print(f\"The highest score is: {highest_score}\")"
   ]
  },
  {
   "cell_type": "markdown",
   "metadata": {},
   "source": [
    "### 10) WAP to write first 100 prime numbers to a file named primenumbers.txt \n",
    "(Note: each number should be in new line)"
   ]
  },
  {
   "cell_type": "code",
   "execution_count": 84,
   "metadata": {},
   "outputs": [],
   "source": [
    "def is_prime(num):\n",
    "    if num < 2:\n",
    "        return False\n",
    "    for i in range(2, int(num**0.5) + 1):\n",
    "        if num % i == 0:\n",
    "            return False\n",
    "    return True\n",
    "\n",
    "def first_n_primes(n):\n",
    "    primes = []\n",
    "    num = 2\n",
    "    while len(primes) < n:\n",
    "        if is_prime(num):\n",
    "            primes.append(num)\n",
    "        num += 1\n",
    "    return primes\n",
    "\n",
    "primes = first_n_primes(100)\n",
    "\n",
    "fp = open('primenumbers.txt', 'w')\n",
    "for i in primes:\n",
    "    fp.write(f\"{i}\\n\")\n",
    "    \n"
   ]
  },
  {
   "cell_type": "markdown",
   "metadata": {},
   "source": [
    "### 11) WAP to merge two files and write it in a new file."
   ]
  },
  {
   "cell_type": "code",
   "execution_count": 92,
   "metadata": {},
   "outputs": [
    {
     "data": {
      "text/plain": [
       "15"
      ]
     },
     "execution_count": 92,
     "metadata": {},
     "output_type": "execute_result"
    }
   ],
   "source": [
    "f1 = open('1.txt','r')\n",
    "f2 = open('score.txt','r')\n",
    "\n",
    "content1 = f1.read()\n",
    "content2 = f2.read()\n",
    "\n",
    "mr = open('new_merge.txt','w')\n",
    "mr.write(content1)\n",
    "mr.write('\\n')\n",
    "mr.write(content2)"
   ]
  },
  {
   "cell_type": "markdown",
   "metadata": {},
   "source": [
    "### 12) WAP to replace word1 by word2 of a text file. Write the updated data to new file."
   ]
  },
  {
   "cell_type": "code",
   "execution_count": 94,
   "metadata": {},
   "outputs": [
    {
     "data": {
      "text/plain": [
       "131"
      ]
     },
     "execution_count": 94,
     "metadata": {},
     "output_type": "execute_result"
    }
   ],
   "source": [
    "input_file = '1.txt'\n",
    "output_file = 'new_12.txt'\n",
    "word1 = 'My'\n",
    "word2 = 'Myyyyyyyyy'\n",
    "\n",
    "content = open(input_file).read()\n",
    "updated_content = content.replace(word1, word2)\n",
    "open(output_file, 'w').write(updated_content)\n"
   ]
  },
  {
   "cell_type": "markdown",
   "metadata": {},
   "source": [
    "### 13) Demonstrate tell() and seek() for all the cases(seek from beginning-end-current position) taking a suitable example of your choice."
   ]
  },
  {
   "cell_type": "code",
   "execution_count": 4,
   "metadata": {},
   "outputs": [
    {
     "name": "stdout",
     "output_type": "stream",
     "text": [
      "Position after seeking from the beginning (10 bytes): 10\n",
      "b's is an ex'\n",
      "\n",
      "Position after seeking from the current position (5 bytes): 25\n",
      "b' text file'\n",
      "\n",
      "Position after seeking from the end (-10 bytes): 71\n",
      "b'y reading!'\n"
     ]
    }
   ],
   "source": [
    "filename = 'example.txt'\n",
    "with open(filename, 'w') as file:\n",
    "    file.write(\"Hello, this is an example text file.\\nIt contains multiple lines.\\nEnjoy reading!\")\n",
    "\n",
    "\n",
    "with open(filename, 'rb') as file:\n",
    "    file.seek(10, 0)\n",
    "    print(f\"Position after seeking from the beginning (10 bytes): {file.tell()}\")\n",
    "    print(file.read(10))\n",
    "\n",
    "    file.seek(5, 1)\n",
    "    print(f\"\\nPosition after seeking from the current position (5 bytes): {file.tell()}\")\n",
    "    print(file.read(10))\n",
    "\n",
    "    file.seek(-10, 2)\n",
    "    print(f\"\\nPosition after seeking from the end (-10 bytes): {file.tell()}\")\n",
    "    print(file.read(10))\n"
   ]
  },
  {
   "cell_type": "code",
   "execution_count": null,
   "metadata": {},
   "outputs": [],
   "source": []
  }
 ],
 "metadata": {
  "kernelspec": {
   "display_name": "Python 3 (ipykernel)",
   "language": "python",
   "name": "python3"
  },
  "language_info": {
   "codemirror_mode": {
    "name": "ipython",
    "version": 3
   },
   "file_extension": ".py",
   "mimetype": "text/x-python",
   "name": "python",
   "nbconvert_exporter": "python",
   "pygments_lexer": "ipython3",
   "version": "3.12.7"
  }
 },
 "nbformat": 4,
 "nbformat_minor": 4
}
