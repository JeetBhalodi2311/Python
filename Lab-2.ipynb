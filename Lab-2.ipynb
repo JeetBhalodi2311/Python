{
 "cells": [
  {
   "cell_type": "markdown",
   "metadata": {},
   "source": [
    "\n",
    "<a href='https://www.darshan.ac.in/'> <img src='https://www.darshan.ac.in/Content/media/DU_Logo.svg' width=\"250\" height=\"300\"/></a>\n",
    "<pre>\n",
    "<center><b><h1>Python Programming - 2301CS404</b></center>\n",
    "<center><b><h1>Lab - 2</b></center>   \n",
    "<center><b><h1>Jeet Bhalodi (23031701006) \n",
    "3-12-2024</b></center>   \n",
    "<pre>"
   ]
  },
  {
   "cell_type": "markdown",
   "metadata": {},
   "source": [
    "# if..else.."
   ]
  },
  {
   "cell_type": "markdown",
   "metadata": {},
   "source": [
    "### 01) WAP to check whether the given number is positive or negative."
   ]
  },
  {
   "cell_type": "code",
   "execution_count": 5,
   "metadata": {},
   "outputs": [
    {
     "name": "stdin",
     "output_type": "stream",
     "text": [
      "Enter Number : -1\n"
     ]
    },
    {
     "name": "stdout",
     "output_type": "stream",
     "text": [
      "Negative Number\n"
     ]
    }
   ],
   "source": [
    "n = int(input(\"Enter Number :\"))\n",
    "if(n>0):\n",
    "    print(\"Positive Number\")\n",
    "else:\n",
    "    print(\"Negative Number\")"
   ]
  },
  {
   "cell_type": "markdown",
   "metadata": {},
   "source": [
    "## 02) WAP to check whether the given number is odd or even."
   ]
  },
  {
   "cell_type": "code",
   "execution_count": 10,
   "metadata": {},
   "outputs": [
    {
     "name": "stdin",
     "output_type": "stream",
     "text": [
      "Enter Number : 1\n"
     ]
    },
    {
     "name": "stdout",
     "output_type": "stream",
     "text": [
      "Odd Number\n"
     ]
    }
   ],
   "source": [
    "n = int(input(\"Enter Number :\"))\n",
    "if(n%2==0):\n",
    "    print(\"Even Number\")\n",
    "else:\n",
    "    print(\"Odd Number\")"
   ]
  },
  {
   "cell_type": "markdown",
   "metadata": {},
   "source": [
    "### 03) WAP to find out largest number from given two numbers using simple if and ternary operator."
   ]
  },
  {
   "cell_type": "code",
   "execution_count": 18,
   "metadata": {},
   "outputs": [
    {
     "name": "stdin",
     "output_type": "stream",
     "text": [
      "Enter A : 4\n",
      "Enter B : 3\n"
     ]
    },
    {
     "name": "stdout",
     "output_type": "stream",
     "text": [
      "A is greater\n",
      "A is Greater\n"
     ]
    }
   ],
   "source": [
    "a = int(input(\"Enter A :\"))\n",
    "b = int(input(\"Enter B :\"))\n",
    "\n",
    "if(a>b):\n",
    "    print(\"A is greater\")\n",
    "else:\n",
    "    print(\"B is greater\")\n",
    "\n",
    "# Ternary\n",
    "print(\"A is Greater\") if(a>b) else (\"b is Greater\")"
   ]
  },
  {
   "cell_type": "markdown",
   "metadata": {},
   "source": [
    "### 04) WAP to find out largest number from given three numbers."
   ]
  },
  {
   "cell_type": "code",
   "execution_count": 24,
   "metadata": {},
   "outputs": [
    {
     "name": "stdin",
     "output_type": "stream",
     "text": [
      "Enter A : 1\n",
      "Enter B : 3\n",
      "Enter C : 2\n"
     ]
    },
    {
     "name": "stdout",
     "output_type": "stream",
     "text": [
      "B is greater\n"
     ]
    }
   ],
   "source": [
    "a = int(input(\"Enter A :\"))\n",
    "b = int(input(\"Enter B :\"))\n",
    "c = int(input(\"Enter C :\"))\n",
    "\n",
    "if(a>b):\n",
    "    if(a>c):\n",
    "        print(\"A is Greater\")\n",
    "    else:\n",
    "        print(\"C is greater\")\n",
    "else:\n",
    "    if(b>c):\n",
    "        print(\"B is greater\")\n",
    "    else:\n",
    "        print(\"C is greater\")"
   ]
  },
  {
   "cell_type": "markdown",
   "metadata": {},
   "source": [
    "### 05) WAP to check whether the given year is leap year or not.\n",
    "[If a year can be divisible by 4 but not divisible by 100 then it is leap year but if it is divisible by 400 then it is leap year]"
   ]
  },
  {
   "cell_type": "code",
   "execution_count": 29,
   "metadata": {},
   "outputs": [
    {
     "name": "stdin",
     "output_type": "stream",
     "text": [
      "Enter Year : 2021\n"
     ]
    },
    {
     "name": "stdout",
     "output_type": "stream",
     "text": [
      "Not Leap year\n"
     ]
    }
   ],
   "source": [
    "year = int(input(\"Enter Year :\"))\n",
    "\n",
    "if((year % 4 == 0 and year % 100 != 0) or (year % 400 == 0)):\n",
    "    print(\"Leap Year\")\n",
    "else:\n",
    "    print(\"Not Leap year\")"
   ]
  },
  {
   "cell_type": "markdown",
   "metadata": {},
   "source": [
    "### 06) WAP in python to display the name of the day according to the number given by the user."
   ]
  },
  {
   "cell_type": "code",
   "execution_count": 65,
   "metadata": {},
   "outputs": [
    {
     "name": "stdin",
     "output_type": "stream",
     "text": [
      "Enter Number :  6\n"
     ]
    },
    {
     "name": "stdout",
     "output_type": "stream",
     "text": [
      "Saturday\n"
     ]
    }
   ],
   "source": [
    "n = int(input(\"Enter Number : \"))\n",
    "match n:\n",
    "    case 1:\n",
    "        print(\"Monday\")\n",
    "    case 2:\n",
    "        print(\"Tuesday\")\n",
    "    case 3:\n",
    "        print(\"Wednesday\")\n",
    "    case 4:\n",
    "        print(\"Thurshday\")\n",
    "    case 5:\n",
    "        print(\"Friday\")\n",
    "    case 6:\n",
    "        print(\"Saturday\")\n",
    "    case 7:\n",
    "        print(\"Sunday\")\n",
    "    case _:\n",
    "        print(\"INVALID\")\n",
    "    \n",
    "    "
   ]
  },
  {
   "cell_type": "markdown",
   "metadata": {},
   "source": [
    "### 07) WAP to implement simple calculator which performs (add,sub,mul,div) of two no. based on user input."
   ]
  },
  {
   "cell_type": "code",
   "execution_count": 39,
   "metadata": {},
   "outputs": [
    {
     "name": "stdin",
     "output_type": "stream",
     "text": [
      "Enter A : 1\n",
      "Enter B : 2\n",
      "Enter Symbole #\n"
     ]
    },
    {
     "name": "stdout",
     "output_type": "stream",
     "text": [
      "INVALID\n"
     ]
    }
   ],
   "source": [
    "a = int(input(\"Enter A :\"))\n",
    "b = int(input(\"Enter B :\"))\n",
    "c = input(\"Enter Symbole\")\n",
    "\n",
    "if(c=='+'):\n",
    "    print(\"ADD =\",a+b)\n",
    "elif(c=='-'):\n",
    "    print(\"SUB =\",a-b)\n",
    "elif(c=='*'):\n",
    "    print(\"MUL =\",a*b)\n",
    "elif(c=='/'):\n",
    "    print(\"DIV =\",a/b)\n",
    "else:\n",
    "    print(\"INVALID\")"
   ]
  },
  {
   "cell_type": "markdown",
   "metadata": {},
   "source": [
    "### 08) WAP to read marks of five subjects. Calculate percentage and print class accordingly. \n",
    "Fail below 35 </br>\n",
    "Pass Class between 35 to 45 </br>\n",
    "Second Class</br>\n",
    "between 45 to 60</br>\n",
    "First Class between 60 to 70</br> \n",
    "Distinction if more than 70"
   ]
  },
  {
   "cell_type": "code",
   "execution_count": 53,
   "metadata": {},
   "outputs": [
    {
     "name": "stdin",
     "output_type": "stream",
     "text": [
      "Enter Maths Mark : 66\n",
      "Enter CE Mark : 68\n",
      "Enter Python Mark : 78\n",
      "Enter DBMS Mark : 88\n",
      "Enter WT Mark : 5\n"
     ]
    },
    {
     "name": "stdout",
     "output_type": "stream",
     "text": [
      "Percentage =  61.0 %\n",
      "First Class\n"
     ]
    }
   ],
   "source": [
    "a = int(input(\"Enter Maths Mark :\"))\n",
    "b = int(input(\"Enter CE Mark :\"))\n",
    "c = int(input(\"Enter Python Mark :\"))\n",
    "d = int(input(\"Enter DBMS Mark :\"))\n",
    "e = int(input(\"Enter WT Mark :\"))\n",
    "\n",
    "Percentage = ((a+b+c+d+e)/500)*100\n",
    "print(\"Percentage = \",Percentage,\"%\")\n",
    "\n",
    "if(Percentage<35):\n",
    "    print(\"FAIL\")\n",
    "elif(Percentage>=35 and Percentage<45):\n",
    "    print(\"Pass Class\")\n",
    "elif(Percentage>=45 and Percentage<60):\n",
    "    print(\"Second Class\")\n",
    "elif(Percentage>=60 and Percentage<70):\n",
    "    print(\"First Class\")\n",
    "elif(Percentage>=70):\n",
    "    print(\"Distinction Class\")\n",
    "\n",
    "\n"
   ]
  },
  {
   "cell_type": "markdown",
   "metadata": {},
   "source": [
    "### 09) Three sides of a triangle are entered through the keyboard, WAP to check whether the triangle is isosceles, equilateral, scalene or right-angled triangle."
   ]
  },
  {
   "cell_type": "code",
   "execution_count": 126,
   "metadata": {},
   "outputs": [
    {
     "name": "stdin",
     "output_type": "stream",
     "text": [
      "Enter A : 3\n",
      "Enter B : 4\n",
      "Enter C : 5\n"
     ]
    },
    {
     "name": "stdout",
     "output_type": "stream",
     "text": [
      "Right-angle tringle\n"
     ]
    }
   ],
   "source": [
    "import math\n",
    "a = int(input(\"Enter A :\"))\n",
    "b = int(input(\"Enter B :\"))\n",
    "c = int(input(\"Enter C :\"))\n",
    "\n",
    "if(a==b==c):\n",
    "    print(\"Equilateral\")\n",
    "elif(c**2==(a**2+b**2)):\n",
    "    print(\"Right-angle tringle\")\n",
    "elif(a!=b!=c):\n",
    "    print(\"Scalence\")\n",
    "elif(a==b or b==c or a==c):\n",
    "    print(\"Isosceles\")\n"
   ]
  },
  {
   "cell_type": "markdown",
   "metadata": {},
   "source": [
    "### 10) WAP to find the second largest number among three user input numbers."
   ]
  },
  {
   "cell_type": "code",
   "execution_count": 73,
   "metadata": {},
   "outputs": [
    {
     "name": "stdin",
     "output_type": "stream",
     "text": [
      "Enter A : 11\n",
      "Enter B : 2\n",
      "Enter C : 5\n"
     ]
    },
    {
     "name": "stdout",
     "output_type": "stream",
     "text": [
      "Second Largest is C\n"
     ]
    },
    {
     "data": {
      "text/plain": [
       "5"
      ]
     },
     "execution_count": 73,
     "metadata": {},
     "output_type": "execute_result"
    }
   ],
   "source": [
    "a = int(input(\"Enter A :\"))\n",
    "b = int(input(\"Enter B :\"))\n",
    "c = int(input(\"Enter C :\"))\n",
    "\n",
    "if(a>b and a>c):\n",
    "    if(b>c):\n",
    "        print(\"Second Largest is B\")\n",
    "    else:\n",
    "        print(\"Second Largest is C\")\n",
    "elif(b>a and b>c):\n",
    "    if(a>c):\n",
    "        print(\"Second Largest is A\")\n",
    "    else:\n",
    "        print(\"Second Largest is C\")\n",
    "else:\n",
    "    if(a>b):\n",
    "        print(\"Second Largest is A\")\n",
    "    else:\n",
    "        print(\"Second Largest is B\")\n",
    "        \n",
    "\n",
    "\n",
    "c\n"
   ]
  },
  {
   "cell_type": "markdown",
   "metadata": {},
   "source": [
    "### 11) WAP to calculate electricity bill based on following criteria. Which takes the unit from the user.\n",
    "a. First 1 to 50 units – Rs. 2.60/unit</br>\n",
    "b. Next 50 to 100 units – Rs. 3.25/unit</br>\n",
    "c. Next 100 to 200 units – Rs. 5.26/unit</br>\n",
    "d. above 200 units – Rs. 8.45/unit"
   ]
  },
  {
   "cell_type": "code",
   "execution_count": 105,
   "metadata": {},
   "outputs": [
    {
     "name": "stdin",
     "output_type": "stream",
     "text": [
      "Enter Unit :  275\n"
     ]
    },
    {
     "name": "stdout",
     "output_type": "stream",
     "text": [
      "Bill :  1452.25\n"
     ]
    }
   ],
   "source": [
    "unit = int(input(\"Enter Unit : \"))\n",
    "\n",
    "if(unit>=1 and unit<50):\n",
    "    print(\"BILL : \",unit*2.60)\n",
    "    \n",
    "elif(unit>=50 and unit<100):\n",
    "    a = (unit-50)*3.25\n",
    "    b = 50*2.60\n",
    "    c = a+b\n",
    "    print(\"Bill : \",c)\n",
    "\n",
    "elif(unit>=100 and unit<200):\n",
    "    a = (unit-100)*5.26\n",
    "    b = (50)*3.25\n",
    "    c = 50*2.60\n",
    "    print(\"Bill : \",(a+b+c))\n",
    "elif(unit>=200):\n",
    "    a = (unit-200)*8.45\n",
    "    b = 100*5.26\n",
    "    c = 50*3.25\n",
    "    d = 50*2.6\n",
    "    print(\"Bill : \",(a+b+c+d))\n",
    "    \n"
   ]
  }
 ],
 "metadata": {
  "kernelspec": {
   "display_name": "Python 3 (ipykernel)",
   "language": "python",
   "name": "python3"
  },
  "language_info": {
   "codemirror_mode": {
    "name": "ipython",
    "version": 3
   },
   "file_extension": ".py",
   "mimetype": "text/x-python",
   "name": "python",
   "nbconvert_exporter": "python",
   "pygments_lexer": "ipython3",
   "version": "3.12.7"
  }
 },
 "nbformat": 4,
 "nbformat_minor": 4
}
