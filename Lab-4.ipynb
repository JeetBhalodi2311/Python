{
 "cells": [
  {
   "cell_type": "markdown",
   "metadata": {},
   "source": [
    "\n",
    "<a href='https://www.darshan.ac.in/'> <img src='https://www.darshan.ac.in/Content/media/DU_Logo.svg' width=\"250\" height=\"300\"/></a>\n",
    "<pre>\n",
    "<center><b><h1>Python Programming - 2301CS404</b></center>\n",
    "<center><b><h1>Lab - 4</b></center>     \n",
    "<center><b><h1>Jeet Bhalodi (23031701006) \n",
    "16-12-2024</b></center> \n",
    "<pre>"
   ]
  },
  {
   "cell_type": "markdown",
   "metadata": {},
   "source": [
    "# String"
   ]
  },
  {
   "cell_type": "markdown",
   "metadata": {},
   "source": [
    "### 01) WAP to check whether the given string is palindrome or not."
   ]
  },
  {
   "cell_type": "code",
   "execution_count": 9,
   "metadata": {},
   "outputs": [
    {
     "name": "stdin",
     "output_type": "stream",
     "text": [
      "Enter String:  abcba\n"
     ]
    },
    {
     "name": "stdout",
     "output_type": "stream",
     "text": [
      "String Are Palindrome\n"
     ]
    }
   ],
   "source": [
    "str = input(\"Enter String: \")\n",
    "rev = str[::-1]\n",
    "\n",
    "if(rev==str):\n",
    " print(\"String Are Palindrome\")\n",
    "else:\n",
    " print(\"String Are Not Palindrome\")"
   ]
  },
  {
   "cell_type": "markdown",
   "metadata": {},
   "source": [
    "### 02) WAP to reverse the words in the given string."
   ]
  },
  {
   "cell_type": "code",
   "execution_count": 2,
   "metadata": {},
   "outputs": [
    {
     "name": "stdin",
     "output_type": "stream",
     "text": [
      "Enter String =  Jeet Bhalodi\n"
     ]
    },
    {
     "name": "stdout",
     "output_type": "stream",
     "text": [
      "Word Wise Reverse :  teeJ idolahB\n",
      "Full String Reverse :  idolahB teeJ\n"
     ]
    }
   ],
   "source": [
    "str = input(\"Enter String = \")\n",
    "word = str.split(\" \")\n",
    "ans=[]\n",
    "for i in word:\n",
    "    ans.append(i[::-1])\n",
    "    \n",
    "joinans = \" \".join(ans)\n",
    "print(\"Word Wise Reverse : \",joinans)\n",
    "\n",
    "fullre = str[::-1]\n",
    "print(\"Full String Reverse : \",fullre)"
   ]
  },
  {
   "cell_type": "markdown",
   "metadata": {},
   "source": [
    "### 03) WAP to remove ith character from given string."
   ]
  },
  {
   "cell_type": "code",
   "execution_count": 15,
   "metadata": {},
   "outputs": [
    {
     "name": "stdin",
     "output_type": "stream",
     "text": [
      "Enter String: Jeeet\n",
      "Enter Number That You Want To Remove: 2\n"
     ]
    },
    {
     "name": "stdout",
     "output_type": "stream",
     "text": [
      "Jeet\n"
     ]
    }
   ],
   "source": [
    "str = input(\"Enter String:\")\n",
    "i = int(input(\"Enter Number That You Want To Remove:\"))\n",
    "ans = str[0:i:] + str[i+1::]\n",
    "print(ans)"
   ]
  },
  {
   "cell_type": "markdown",
   "metadata": {},
   "source": [
    "### 04) WAP to find length of string without using len function."
   ]
  },
  {
   "cell_type": "code",
   "execution_count": 19,
   "metadata": {},
   "outputs": [
    {
     "name": "stdin",
     "output_type": "stream",
     "text": [
      "Enter String: Darshan\n"
     ]
    },
    {
     "name": "stdout",
     "output_type": "stream",
     "text": [
      "7\n"
     ]
    }
   ],
   "source": [
    "str = input(\"Enter String:\")\n",
    "length=0\n",
    "for i in str:\n",
    "    length+=1\n",
    "print(length)"
   ]
  },
  {
   "cell_type": "markdown",
   "metadata": {},
   "source": [
    "### 05) WAP to print even length word in string."
   ]
  },
  {
   "cell_type": "code",
   "execution_count": 21,
   "metadata": {},
   "outputs": [
    {
     "name": "stdin",
     "output_type": "stream",
     "text": [
      "Enter String: Jeet P Bhalodi\n"
     ]
    },
    {
     "name": "stdout",
     "output_type": "stream",
     "text": [
      "Even Word :  Jeet\n"
     ]
    }
   ],
   "source": [
    "str = input(\"Enter String:\")\n",
    "word = str.split(\" \")\n",
    "\n",
    "for i in word:\n",
    "    if(len(i)%2==0):\n",
    "        print(\"Even Word : \",i)"
   ]
  },
  {
   "cell_type": "markdown",
   "metadata": {},
   "source": [
    "### 06) WAP to count numbers of vowels in given string."
   ]
  },
  {
   "cell_type": "code",
   "execution_count": 25,
   "metadata": {},
   "outputs": [
    {
     "name": "stdin",
     "output_type": "stream",
     "text": [
      "Enter String: Jeet\n"
     ]
    },
    {
     "name": "stdout",
     "output_type": "stream",
     "text": [
      "2\n"
     ]
    }
   ],
   "source": [
    "str = input(\"Enter String:\")\n",
    "ans = 0\n",
    "str = str.lower()\n",
    "for i in str:\n",
    "    if(i=='i' or i=='a' or i=='e' or i=='u' or i=='o'):\n",
    "        ans+=1\n",
    "print(ans)"
   ]
  },
  {
   "cell_type": "markdown",
   "metadata": {},
   "source": [
    "### 07) WAP to capitalize the first and last character of each word in a string."
   ]
  },
  {
   "cell_type": "code",
   "execution_count": 29,
   "metadata": {},
   "outputs": [
    {
     "name": "stdin",
     "output_type": "stream",
     "text": [
      "Enter String: jeet bhalodi\n"
     ]
    },
    {
     "name": "stdout",
     "output_type": "stream",
     "text": [
      "JeeT BhalodI \n"
     ]
    }
   ],
   "source": [
    "str = input(\"Enter String:\")\n",
    "word = str.split(\" \")\n",
    "ans=\"\"\n",
    "final=\"\"\n",
    "\n",
    "for i in word:\n",
    "    ans = i[0:1:].upper() + i[1:len(i)-1:] + i[len(i)-1::].upper()\n",
    "    final+=ans+\" \"\n",
    "print(final)"
   ]
  },
  {
   "cell_type": "markdown",
   "metadata": {},
   "source": [
    "### 08) WAP to convert given array to string."
   ]
  },
  {
   "cell_type": "code",
   "execution_count": 31,
   "metadata": {},
   "outputs": [
    {
     "name": "stdout",
     "output_type": "stream",
     "text": [
      "Hello My Name is Jeet \n"
     ]
    }
   ],
   "source": [
    "arr = [\"Hello\",\"My\",\"Name\",\"is\",\"Jeet\"]\n",
    "str = \"\"\n",
    "for i in arr:\n",
    " str+=i+\" \"\n",
    "print(str)"
   ]
  },
  {
   "cell_type": "markdown",
   "metadata": {},
   "source": [
    "### 09) Check if the password and confirm password is same or not. \n",
    "### In case of only case's mistake, show the error message."
   ]
  },
  {
   "cell_type": "code",
   "execution_count": 39,
   "metadata": {},
   "outputs": [
    {
     "name": "stdin",
     "output_type": "stream",
     "text": [
      "Enter Your Password:  jeetbhalodi9293\n",
      "Enter Confirm Password jeetbhalodi9293\n"
     ]
    },
    {
     "name": "stdout",
     "output_type": "stream",
     "text": [
      "PassWord Are Correct\n"
     ]
    }
   ],
   "source": [
    "pw = input(\"Enter Your Password: \")\n",
    "cp = input(\"Enter Confirm Password\")\n",
    "\n",
    "if(pw==cp):\n",
    "    print(\"PassWord Are Correct\")\n",
    "else:\n",
    "    print(\"Enter Valid Password\")"
   ]
  },
  {
   "cell_type": "markdown",
   "metadata": {},
   "source": [
    "### 10) : Display credit card number. \n",
    "### card no. : 1234 5678 9012 3456\n",
    "### display as  : **** **** **** 3456"
   ]
  },
  {
   "cell_type": "code",
   "execution_count": 18,
   "metadata": {},
   "outputs": [
    {
     "name": "stdin",
     "output_type": "stream",
     "text": [
      "Enter Card No :  1234 4567 8766 5343\n"
     ]
    },
    {
     "name": "stdout",
     "output_type": "stream",
     "text": [
      "**** **** **** 5343\n"
     ]
    }
   ],
   "source": [
    "\n",
    "card = input(\"Enter Card No : \")\n",
    "ans = card.isascii()\n",
    "\n",
    "word=[]\n",
    "if ans==True:\n",
    "    isfour = card.split(\" \")\n",
    "    word.append(isfour)\n",
    "\n",
    "for i in word:\n",
    "    flag=1\n",
    "    for j in i:\n",
    "        if len(j)>4:\n",
    "            print(\"Plz Enter Valid Number\")\n",
    "            flag=0\n",
    "            break;\n",
    "    if(flag==1):\n",
    "        answer = '**** **** **** '+card[-4::]\n",
    "        print(answer)\n"
   ]
  },
  {
   "cell_type": "markdown",
   "metadata": {},
   "source": [
    "### 11) : Checking if the two strings are Anagram or not.\n",
    "### s1 = decimal and s2 = medical are Anagram"
   ]
  },
  {
   "cell_type": "code",
   "execution_count": 49,
   "metadata": {},
   "outputs": [
    {
     "name": "stdin",
     "output_type": "stream",
     "text": [
      "Enter String: decimal\n",
      "Enter String: medical\n"
     ]
    },
    {
     "name": "stdout",
     "output_type": "stream",
     "text": [
      "\"decimal\" and \"medical\" are anagrams.\n"
     ]
    }
   ],
   "source": [
    "str1 = input(\"Enter String:\")\n",
    "str2 = input(\"Enter String:\")\n",
    "\n",
    "s1=str1.replace(\" \",\"\").lower()\n",
    "s2=str2.replace(\" \",\"\").lower()\n",
    "\n",
    "if(sorted(s1)==sorted(s2)):\n",
    "    print(f'\"{s1}\" and \"{s2}\" are anagrams.')\n",
    "else:\n",
    "    print(f'\"{s1}\" and \"{s2}\" are not anagrams.')"
   ]
  },
  {
   "cell_type": "markdown",
   "metadata": {},
   "source": [
    "### 12) : Rearrange the given string. First lowercase then uppercase alphabets.\n",
    "### input : EHlsarwiwhtwMV\n",
    "### output : lsarwiwhtwEHMV"
   ]
  },
  {
   "cell_type": "code",
   "execution_count": 51,
   "metadata": {},
   "outputs": [
    {
     "name": "stdin",
     "output_type": "stream",
     "text": [
      "Enter String: EHlsarwiwhtwMV\n"
     ]
    },
    {
     "name": "stdout",
     "output_type": "stream",
     "text": [
      "lsarwiwhtwEHMV\n"
     ]
    }
   ],
   "source": [
    "str = input(\"Enter String:\")\n",
    "lower = [char for char in str if char.islower()]\n",
    "upper = [char for char in str if char.isupper()]\n",
    "\n",
    "newstr =\"\".join(lower+upper)\n",
    "print(newstr)"
   ]
  },
  {
   "cell_type": "code",
   "execution_count": null,
   "metadata": {},
   "outputs": [],
   "source": []
  }
 ],
 "metadata": {
  "kernelspec": {
   "display_name": "Python 3 (ipykernel)",
   "language": "python",
   "name": "python3"
  },
  "language_info": {
   "codemirror_mode": {
    "name": "ipython",
    "version": 3
   },
   "file_extension": ".py",
   "mimetype": "text/x-python",
   "name": "python",
   "nbconvert_exporter": "python",
   "pygments_lexer": "ipython3",
   "version": "3.12.7"
  },
  "vscode": {
   "interpreter": {
    "hash": "31f2aee4e71d21fbe5cf8b01ff0e069b9275f58929596ceb00d14d90e3e16cd6"
   }
  }
 },
 "nbformat": 4,
 "nbformat_minor": 4
}
