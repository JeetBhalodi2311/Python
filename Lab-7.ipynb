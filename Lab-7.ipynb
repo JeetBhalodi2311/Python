{
 "cells": [
  {
   "cell_type": "markdown",
   "metadata": {},
   "source": [
    "<a href='https://www.darshan.ac.in/'> <img src='https://www.darshan.ac.in/Content/media/DU_Logo.svg' width=\"250\" height=\"300\"/></a>\n",
    "<pre>\n",
    "<center><b><h1>Python Programming - 2301CS404</b></center>\n",
    "<center><b><h1>Lab - 7</b></center>   \n",
    "<center><b><h1>Jeet Bhalodi (23031701006) \n",
    "21-01-2025</b></center>  \n",
    "<pre>"
   ]
  },
  {
   "cell_type": "markdown",
   "metadata": {},
   "source": [
    "# Set & Dictionary"
   ]
  },
  {
   "cell_type": "markdown",
   "metadata": {},
   "source": [
    "### 01) WAP to iterate over a set."
   ]
  },
  {
   "cell_type": "code",
   "execution_count": 3,
   "metadata": {},
   "outputs": [
    {
     "name": "stdin",
     "output_type": "stream",
     "text": [
      "Enter elements separated by comma :  1,2,3,4,5\n"
     ]
    },
    {
     "name": "stdout",
     "output_type": "stream",
     "text": [
      "1\n",
      "2\n",
      "3\n",
      "4\n",
      "5\n"
     ]
    }
   ],
   "source": [
    "user_input = input(\"Enter elements separated by comma : \") \n",
    "user_set={int(i) for i in user_input.split(',')}\n",
    "\n",
    "for i in user_set:\n",
    "    print(i)"
   ]
  },
  {
   "cell_type": "markdown",
   "metadata": {},
   "source": [
    "### 02) WAP to convert set into list, string and tuple."
   ]
  },
  {
   "cell_type": "code",
   "execution_count": 5,
   "metadata": {},
   "outputs": [
    {
     "name": "stdin",
     "output_type": "stream",
     "text": [
      "Enter elements separated by comma :  1,2,3,4,5\n"
     ]
    },
    {
     "name": "stdout",
     "output_type": "stream",
     "text": [
      "List : [1, 2, 3, 4, 5]\n",
      "String : {1, 2, 3, 4, 5}\n",
      "Tuple : (1, 2, 3, 4, 5)\n"
     ]
    }
   ],
   "source": [
    "user_input = input(\"Enter elements separated by comma : \") \n",
    "user_set={int(i) for i in user_input.split(',')}\n",
    "\n",
    "print(f'List : {list(user_set)}')\n",
    "print(f'String : {str(user_set)}')\n",
    "print(f'Tuple : {tuple(user_set)}')"
   ]
  },
  {
   "cell_type": "markdown",
   "metadata": {},
   "source": [
    "### 03) WAP to find Maximum and Minimum from a set."
   ]
  },
  {
   "cell_type": "code",
   "execution_count": 9,
   "metadata": {},
   "outputs": [
    {
     "name": "stdin",
     "output_type": "stream",
     "text": [
      "Enter elements separated by comma :  1,2,3,4,5\n"
     ]
    },
    {
     "name": "stdout",
     "output_type": "stream",
     "text": [
      "Max =  5\n",
      "Min =  1\n"
     ]
    }
   ],
   "source": [
    "user_input = input(\"Enter elements separated by comma : \") \n",
    "user_set={int(i) for i in user_input.split(',')}\n",
    "\n",
    "print(\"Max = \",max(user_set))\n",
    "print(\"Min = \",min(user_set))"
   ]
  },
  {
   "cell_type": "markdown",
   "metadata": {},
   "source": [
    "### 04) WAP to perform union of two sets."
   ]
  },
  {
   "cell_type": "code",
   "execution_count": 11,
   "metadata": {},
   "outputs": [
    {
     "name": "stdin",
     "output_type": "stream",
     "text": [
      "Enter elements separated by comma :  1,2,3,4\n",
      "Enter elements separated by comma :  7,5,3,6\n"
     ]
    },
    {
     "name": "stdout",
     "output_type": "stream",
     "text": [
      "{1, 2, 3, 4, 5, 6, 7}\n"
     ]
    }
   ],
   "source": [
    "user_input1 = input(\"Enter elements separated by comma : \") \n",
    "user_set1={int(i) for i in user_input1.split(',')}\n",
    "\n",
    "user_input2 = input(\"Enter elements separated by comma : \") \n",
    "user_set2={int(i) for i in user_input2.split(',')}\n",
    "\n",
    "print(user_set1.union(user_set2))"
   ]
  },
  {
   "cell_type": "markdown",
   "metadata": {},
   "source": [
    "### 05) WAP to check if two lists have at-least one element common."
   ]
  },
  {
   "cell_type": "code",
   "execution_count": 19,
   "metadata": {},
   "outputs": [
    {
     "name": "stdin",
     "output_type": "stream",
     "text": [
      "Enter elements separated by comma :  1,2,3,4\n",
      "Enter elements separated by comma :  2,6,7\n"
     ]
    },
    {
     "name": "stdout",
     "output_type": "stream",
     "text": [
      "YES , The lists have at least one element in common.\n"
     ]
    }
   ],
   "source": [
    "user_input1 = input(\"Enter elements separated by comma : \") \n",
    "user_list1=[int(i) for i in user_input1.split(',')]\n",
    "\n",
    "user_input2 = input(\"Enter elements separated by comma : \") \n",
    "user_list2={int(i) for i in user_input2.split(',')}\n",
    "\n",
    "set1=set(user_list1)\n",
    "set2=set(user_list2)\n",
    "\n",
    "common_elements = set1.intersection(set2)\n",
    "\n",
    "if len(common_elements)>0:\n",
    "    print(\"YES , The lists have at least one element in common.\") \n",
    "else: \n",
    "    print(\"NO , The lists do not have any elements in common.\")\n",
    "\n"
   ]
  },
  {
   "cell_type": "markdown",
   "metadata": {},
   "source": [
    "### 06) WAP to remove duplicates from list."
   ]
  },
  {
   "cell_type": "code",
   "execution_count": 21,
   "metadata": {},
   "outputs": [
    {
     "name": "stdin",
     "output_type": "stream",
     "text": [
      "Enter elements separated by comma :  1,2,3,4,5,2,1,2,3,5\n"
     ]
    },
    {
     "name": "stdout",
     "output_type": "stream",
     "text": [
      "[1, 2, 3, 4, 5]\n"
     ]
    }
   ],
   "source": [
    "user_input1 = input(\"Enter elements separated by comma : \") \n",
    "user_list1=[int(i) for i in user_input1.split(',')]\n",
    "\n",
    "ans=set(user_list1)\n",
    "print(list(ans))"
   ]
  },
  {
   "cell_type": "markdown",
   "metadata": {},
   "source": [
    "### 07) WAP to find unique words in the given string."
   ]
  },
  {
   "cell_type": "code",
   "execution_count": 27,
   "metadata": {},
   "outputs": [
    {
     "name": "stdin",
     "output_type": "stream",
     "text": [
      "Enter String :  Jeet Bhalodi jeet\n"
     ]
    },
    {
     "name": "stdout",
     "output_type": "stream",
     "text": [
      "Unique words in the given string:\n",
      "bhalodi\n",
      "jeet\n"
     ]
    }
   ],
   "source": [
    "input_string = input(\"Enter String : \") \n",
    "\n",
    "words = input_string.lower().split(' ')\n",
    "\n",
    "unique_words = set(words)\n",
    "\n",
    "print(\"Unique words in the given string:\")\n",
    "for word in unique_words:\n",
    "    print(word)\n"
   ]
  },
  {
   "cell_type": "markdown",
   "metadata": {},
   "source": [
    "### 08) WAP to remove common elements of set A & B from set A."
   ]
  },
  {
   "cell_type": "code",
   "execution_count": 29,
   "metadata": {},
   "outputs": [
    {
     "name": "stdin",
     "output_type": "stream",
     "text": [
      "Enter elements separated by comma :  1,2,3,4,5\n",
      "Enter elements separated by comma :  2,4,7,8\n"
     ]
    },
    {
     "name": "stdout",
     "output_type": "stream",
     "text": [
      "{1, 3, 5}\n"
     ]
    }
   ],
   "source": [
    "user_input1 = input(\"Enter elements separated by comma : \") \n",
    "a={int(i) for i in user_input1.split(',')}\n",
    "\n",
    "user_input2 = input(\"Enter elements separated by comma : \") \n",
    "b={int(i) for i in user_input2.split(',')}\n",
    "\n",
    "ans = a - a.intersection(b)\n",
    "print(ans)"
   ]
  },
  {
   "cell_type": "markdown",
   "metadata": {},
   "source": [
    "### 09) WAP to check whether two given strings are anagram or not using set."
   ]
  },
  {
   "cell_type": "code",
   "execution_count": 31,
   "metadata": {},
   "outputs": [
    {
     "name": "stdin",
     "output_type": "stream",
     "text": [
      "Enter String :  jeet\n",
      "Enter String :  heet\n"
     ]
    },
    {
     "name": "stdout",
     "output_type": "stream",
     "text": [
      "'jeet' and 'heet' are not anagrams.\n"
     ]
    }
   ],
   "source": [
    "a = input(\"Enter String : \") \n",
    "b = input(\"Enter String : \") \n",
    "\n",
    "s1=a.replace(\" \",\"\").lower()\n",
    "s2=b.replace(\" \",\"\").lower()\n",
    "\n",
    "if(sorted(s1)==sorted(s2)):\n",
    "    print(f\"'{s1}' and '{s2}' are anagrams.\") \n",
    "else: \n",
    "    print(f\"'{s1}' and '{s2}' are not anagrams.\")\n"
   ]
  },
  {
   "cell_type": "markdown",
   "metadata": {},
   "source": [
    "### 10) WAP to find common elements in three lists using set."
   ]
  },
  {
   "cell_type": "code",
   "execution_count": 33,
   "metadata": {},
   "outputs": [
    {
     "name": "stdin",
     "output_type": "stream",
     "text": [
      "Enter elements separated by comma :  1,2,3,4,5\n",
      "Enter elements separated by comma :  3,4,5,6\n",
      "Enter elements separated by comma :  4,5,6,7,8\n"
     ]
    },
    {
     "name": "stdout",
     "output_type": "stream",
     "text": [
      "Common elements in three lists are : {4, 5}\n"
     ]
    }
   ],
   "source": [
    "user_input1 = input(\"Enter elements separated by comma : \") \n",
    "user_list1=[int(i) for i in user_input1.split(',')]\n",
    "\n",
    "user_input2 = input(\"Enter elements separated by comma : \") \n",
    "user_list2={int(i) for i in user_input2.split(',')}\n",
    "\n",
    "user_input3 = input(\"Enter elements separated by comma : \") \n",
    "user_list3=[int(i) for i in user_input3.split(',')]\n",
    "\n",
    "s1=set(user_list1)\n",
    "s2=set(user_list2)\n",
    "s3=set(user_list3)\n",
    "\n",
    "print(f'Common elements in three lists are : {s1.intersection(s2,s3)}')"
   ]
  },
  {
   "cell_type": "markdown",
   "metadata": {},
   "source": [
    "### 11) WAP to count number of vowels in given string using set."
   ]
  },
  {
   "cell_type": "code",
   "execution_count": 35,
   "metadata": {},
   "outputs": [
    {
     "name": "stdin",
     "output_type": "stream",
     "text": [
      "Enter String :  Jeet bhalodi\n"
     ]
    },
    {
     "name": "stdout",
     "output_type": "stream",
     "text": [
      "5\n"
     ]
    }
   ],
   "source": [
    "a = input(\"Enter String : \") \n",
    "\n",
    "str1=a.lower()\n",
    "\n",
    "vowels = {'a','e','i','o','u'}\n",
    "count=0\n",
    "\n",
    "for i in str1:\n",
    "    if i in vowels:\n",
    "        count+=1\n",
    "\n",
    "print(count)"
   ]
  },
  {
   "cell_type": "markdown",
   "metadata": {},
   "source": [
    "### 12) WAP to check if a given string is binary string or not."
   ]
  },
  {
   "cell_type": "code",
   "execution_count": 37,
   "metadata": {},
   "outputs": [
    {
     "name": "stdin",
     "output_type": "stream",
     "text": [
      "Enter a string:  1010101\n"
     ]
    },
    {
     "name": "stdout",
     "output_type": "stream",
     "text": [
      "'1010101' is a binary string.\n"
     ]
    }
   ],
   "source": [
    "input_string = input(\"Enter a string: \")\n",
    "\n",
    "binary = {'0', '1'}\n",
    "\n",
    "input_set = set(input_string)\n",
    "\n",
    "if input_set.issubset(binary):\n",
    "    print(f\"'{input_string}' is a binary string.\")\n",
    "else:\n",
    "    print(f\"'{input_string}' is not a binary string.\")\n",
    " "
   ]
  },
  {
   "cell_type": "markdown",
   "metadata": {},
   "source": [
    "### 13) WAP to sort dictionary by key or value."
   ]
  },
  {
   "cell_type": "code",
   "execution_count": 4,
   "metadata": {},
   "outputs": [
    {
     "name": "stdin",
     "output_type": "stream",
     "text": [
      "Enter the number of key-value pairs:  3\n",
      "Enter key:  1\n",
      "Enter value:  3\n",
      "Enter key:  2\n",
      "Enter value:  2\n",
      "Enter key:  3\n",
      "Enter value:  1\n"
     ]
    },
    {
     "name": "stdout",
     "output_type": "stream",
     "text": [
      "Dictionary sorted by keys: {'1': '3', '2': '2', '3': '1'}\n",
      "Dictionary sorted by values: {'3': '1', '2': '2', '1': '3'}\n"
     ]
    }
   ],
   "source": [
    "input_dict = {}\n",
    "\n",
    "n = int(input(\"Enter the number of key-value pairs: \"))\n",
    "\n",
    "for _ in range(n):\n",
    "    key = input(\"Enter key: \")\n",
    "    value = (input(\"Enter value: \"))\n",
    "    input_dict[key] = value\n",
    "\n",
    "sorted_by_keys = dict(sorted(input_dict.items()))\n",
    "print(\"Dictionary sorted by keys:\", sorted_by_keys)\n",
    "\n",
    "sorted_by_values = dict(sorted(input_dict.items(), key=lambda item: item[1], reverse=False)) \n",
    "\n",
    "print(\"Dictionary sorted by values:\", sorted_by_values)"
   ]
  },
  {
   "cell_type": "markdown",
   "metadata": {},
   "source": [
    "### 14) WAP to find the sum of all items (values) in a dictionary given by user. (Assume: values are numeric)"
   ]
  },
  {
   "cell_type": "code",
   "execution_count": 43,
   "metadata": {},
   "outputs": [
    {
     "name": "stdin",
     "output_type": "stream",
     "text": [
      "Enter the number of key-value pairs:  3\n",
      "Enter key:  1\n",
      "Enter value:  5\n",
      "Enter key:  2\n",
      "Enter value:  10\n",
      "Enter key:  3\n",
      "Enter value:  15\n"
     ]
    },
    {
     "name": "stdout",
     "output_type": "stream",
     "text": [
      "Sum : 30\n"
     ]
    }
   ],
   "source": [
    "input_dict = {}\n",
    "n = int(input(\"Enter the number of key-value pairs: \"))\n",
    "for _ in range(n):\n",
    "    key = input(\"Enter key: \")\n",
    "    value = int(input(\"Enter value: \"))\n",
    "    input_dict[key] = value\n",
    "\n",
    "total_sum = sum(input_dict.values())\n",
    "\n",
    "print(f'Sum : {total_sum}')"
   ]
  },
  {
   "cell_type": "markdown",
   "metadata": {},
   "source": [
    "### 15) WAP to handle missing keys in dictionaries.\n",
    "#### Example : Given, dict1 = {'a': 5, 'c': 8, 'e': 2} \n",
    "#### if you look for key = 'd', the message given should be 'Key Not Found', otherwise print the value of 'd' in dict1."
   ]
  },
  {
   "cell_type": "code",
   "execution_count": 45,
   "metadata": {},
   "outputs": [
    {
     "name": "stdin",
     "output_type": "stream",
     "text": [
      "Enter the number of key-value pairs:  3\n",
      "Enter key:  a\n",
      "Enter value:  5\n",
      "Enter key:  c\n",
      "Enter value:  8\n",
      "Enter key:  e\n",
      "Enter value:  2\n",
      "Enter the key to look up:  d\n"
     ]
    },
    {
     "name": "stdout",
     "output_type": "stream",
     "text": [
      "d key is not found\n"
     ]
    }
   ],
   "source": [
    "input_dict = {}\n",
    "n = int(input(\"Enter the number of key-value pairs: \"))\n",
    "for _ in range(n):\n",
    "    key = input(\"Enter key: \")\n",
    "    value = int(input(\"Enter value: \"))\n",
    "    input_dict[key] = value\n",
    "\n",
    "key = input(\"Enter the key to look up: \")\n",
    "\n",
    "if key in input_dict:\n",
    "    print(f'{key} is in the input dictionary')\n",
    "else:\n",
    "    print(f'{key} key is not found')"
   ]
  }
 ],
 "metadata": {
  "kernelspec": {
   "display_name": "Python 3 (ipykernel)",
   "language": "python",
   "name": "python3"
  },
  "language_info": {
   "codemirror_mode": {
    "name": "ipython",
    "version": 3
   },
   "file_extension": ".py",
   "mimetype": "text/x-python",
   "name": "python",
   "nbconvert_exporter": "python",
   "pygments_lexer": "ipython3",
   "version": "3.12.7"
  }
 },
 "nbformat": 4,
 "nbformat_minor": 4
}
