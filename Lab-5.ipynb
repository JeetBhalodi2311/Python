{
 "cells": [
  {
   "cell_type": "markdown",
   "metadata": {},
   "source": [
    "\n",
    "<a href='https://www.darshan.ac.in/'> <img src='https://www.darshan.ac.in/Content/media/DU_Logo.svg' width=\"250\" height=\"300\"/></a>\n",
    "<pre>\n",
    "<center><b><h1>Python Programming - 2301CS404</b></center>\n",
    "<center><b><h1>Lab - 5</b></center>    \n",
    "<center><b><h1>Jeet Bhalodi (23031701006) \n",
    "24-12-2024</b></center> \n",
    "<pre>"
   ]
  },
  {
   "cell_type": "markdown",
   "metadata": {},
   "source": [
    "# List"
   ]
  },
  {
   "cell_type": "markdown",
   "metadata": {},
   "source": [
    "### 01) WAP to find sum of all the elements in a List."
   ]
  },
  {
   "cell_type": "code",
   "execution_count": 55,
   "metadata": {},
   "outputs": [
    {
     "name": "stdin",
     "output_type": "stream",
     "text": [
      "Enter Number With Comma :  1,2,3,4,5\n"
     ]
    },
    {
     "name": "stdout",
     "output_type": "stream",
     "text": [
      "Sum of all the elements in a List :  15\n"
     ]
    }
   ],
   "source": [
    "list1=[]\n",
    "element = input(\"Enter Number With Comma : \")\n",
    "list1=[int(i) for i in element.split(',')]\n",
    "\n",
    "sum=0\n",
    "for i in list1:\n",
    "    sum+=i\n",
    "\n",
    "print(\"Sum of all the elements in a List : \",sum)"
   ]
  },
  {
   "cell_type": "markdown",
   "metadata": {},
   "source": [
    "### 02) WAP to find largest element in a List."
   ]
  },
  {
   "cell_type": "code",
   "execution_count": 57,
   "metadata": {},
   "outputs": [
    {
     "name": "stdin",
     "output_type": "stream",
     "text": [
      "Enter Number With Comma :  1,4,23,6,3\n"
     ]
    },
    {
     "name": "stdout",
     "output_type": "stream",
     "text": [
      "Largest element in a List : 23\n"
     ]
    }
   ],
   "source": [
    "list1=[]\n",
    "element = input(\"Enter Number With Comma : \")\n",
    "list1=[int(i) for i in element.split(',')]\n",
    "large=0\n",
    "for i in list1:\n",
    "    if(i>large):\n",
    "        large=i\n",
    "else:\n",
    "    print(\"Largest element in a List :\",large)"
   ]
  },
  {
   "cell_type": "markdown",
   "metadata": {},
   "source": [
    "### 03) WAP to find the length of a List."
   ]
  },
  {
   "cell_type": "code",
   "execution_count": 61,
   "metadata": {},
   "outputs": [
    {
     "name": "stdin",
     "output_type": "stream",
     "text": [
      "Enter Number With Comma :  1,2,3\n"
     ]
    },
    {
     "name": "stdout",
     "output_type": "stream",
     "text": [
      "length of a List :  3\n"
     ]
    }
   ],
   "source": [
    "list1=[]\n",
    "element = input(\"Enter Number With Comma : \")\n",
    "list1=[int(i) for i in element.split(',')]\n",
    "\n",
    "count=0\n",
    "for i in list1:\n",
    "    count+=1\n",
    "\n",
    "print(\"length of a List : \",count)"
   ]
  },
  {
   "cell_type": "markdown",
   "metadata": {},
   "source": [
    "### 04) WAP to interchange first and last elements in a list."
   ]
  },
  {
   "cell_type": "code",
   "execution_count": 63,
   "metadata": {},
   "outputs": [
    {
     "name": "stdout",
     "output_type": "stream",
     "text": [
      "<class 'list'>\n"
     ]
    },
    {
     "name": "stdin",
     "output_type": "stream",
     "text": [
      "Enter Number With Comma :  1,2,3,4,5\n"
     ]
    },
    {
     "name": "stdout",
     "output_type": "stream",
     "text": [
      "[5, 2, 3, 4, 1]\n"
     ]
    }
   ],
   "source": [
    "list1=[]\n",
    "print(type(list1))\n",
    "element = input(\"Enter Number With Comma : \")\n",
    "list1=[int(i) for i in element.split(',')]\n",
    "\n",
    "list1[0],list1[-1]=list1[-1],list1[0]\n",
    "print(list1)"
   ]
  },
  {
   "cell_type": "markdown",
   "metadata": {},
   "source": [
    "### 05) WAP to split the List into two parts and append the first part to the end."
   ]
  },
  {
   "cell_type": "code",
   "execution_count": 85,
   "metadata": {},
   "outputs": [
    {
     "name": "stdin",
     "output_type": "stream",
     "text": [
      "Enter Number With Comma :  1,2,3,4\n"
     ]
    },
    {
     "name": "stdout",
     "output_type": "stream",
     "text": [
      "[[3, 4], [1, 2]]\n"
     ]
    }
   ],
   "source": [
    "list1=[]\n",
    "\n",
    "element = input(\"Enter Number With Comma : \")\n",
    "list1=[int(i) for i in element.split(',')]\n",
    "\n",
    "mid = int((len(list1))/2)\n",
    "\n",
    "first_part = list1[0:mid]\n",
    "last_part = list1[mid:]\n",
    "\n",
    "new=[]\n",
    "new.append(last_part)\n",
    "new.append(first_part)\n",
    "print(new)"
   ]
  },
  {
   "cell_type": "markdown",
   "metadata": {},
   "source": [
    "### 06) WAP to interchange the elements on two positions entered by a user."
   ]
  },
  {
   "cell_type": "code",
   "execution_count": 87,
   "metadata": {},
   "outputs": [
    {
     "name": "stdin",
     "output_type": "stream",
     "text": [
      "Enter Number With Comma :  1,2,6,4,5,3\n",
      "Enter First Possition :  2\n",
      "Enter Second Possition :  5\n"
     ]
    },
    {
     "name": "stdout",
     "output_type": "stream",
     "text": [
      "[1, 2, 3, 4, 5, 6]\n"
     ]
    }
   ],
   "source": [
    "list1=[]\n",
    "\n",
    "element = input(\"Enter Number With Comma : \")\n",
    "list1=[int(i) for i in element.split(',')]\n",
    "\n",
    "p1 = int(input(\"Enter First Possition : \"))\n",
    "p2 = int(input(\"Enter Second Possition : \"))\n",
    "\n",
    "list1[p1],list1[p2] = list1[p2],list1[p1]\n",
    "\n",
    "print(list1)"
   ]
  },
  {
   "cell_type": "markdown",
   "metadata": {},
   "source": [
    "### 07) WAP to reverse the list entered by user."
   ]
  },
  {
   "cell_type": "code",
   "execution_count": 67,
   "metadata": {},
   "outputs": [
    {
     "name": "stdin",
     "output_type": "stream",
     "text": [
      "Enter Number With Comma :  1,2,3,4,5\n"
     ]
    },
    {
     "name": "stdout",
     "output_type": "stream",
     "text": [
      "Reverse List =  [5, 4, 3, 2, 1]\n"
     ]
    }
   ],
   "source": [
    "list1=[]\n",
    "element = input(\"Enter Number With Comma : \")\n",
    "list1=[int(i) for i in element.split(',')]\n",
    "list1.reverse()\n",
    "print(\"Reverse List = \",list1)"
   ]
  },
  {
   "cell_type": "markdown",
   "metadata": {},
   "source": [
    "### 08) WAP to print even numbers in a list."
   ]
  },
  {
   "cell_type": "code",
   "execution_count": 89,
   "metadata": {},
   "outputs": [
    {
     "name": "stdin",
     "output_type": "stream",
     "text": [
      "Enter Number With Comma :  1,2,3,4\n"
     ]
    },
    {
     "name": "stdout",
     "output_type": "stream",
     "text": [
      "[2, 4]\n"
     ]
    }
   ],
   "source": [
    "list1=[]\n",
    "element = input(\"Enter Number With Comma : \")\n",
    "list1=[int(i) for i in element.split(',')]\n",
    "\n",
    "new=[]\n",
    "\n",
    "for i in list1:\n",
    "    if(i%2==0):\n",
    "        new.append(i)\n",
    "print(new)"
   ]
  },
  {
   "cell_type": "markdown",
   "metadata": {},
   "source": [
    "### 09) WAP to count unique items in a list."
   ]
  },
  {
   "cell_type": "code",
   "execution_count": 105,
   "metadata": {},
   "outputs": [
    {
     "name": "stdin",
     "output_type": "stream",
     "text": [
      "Enter Number With Comma :  1,2,3,4,2,1\n"
     ]
    },
    {
     "name": "stdout",
     "output_type": "stream",
     "text": [
      "Unique list =  [1, 2, 3, 4]\n",
      "Unique Count =  4\n"
     ]
    }
   ],
   "source": [
    "list1=[]\n",
    "element = input(\"Enter Number With Comma : \")\n",
    "list1=[int(i) for i in element.split(',')]\n",
    "\n",
    "unique=[]\n",
    "\n",
    "for i in list1:\n",
    "    if(i not in unique):\n",
    "        unique.append(i)\n",
    "\n",
    "print(\"Unique list = \",unique)\n",
    "print(\"Unique Count = \",len(unique))"
   ]
  },
  {
   "cell_type": "markdown",
   "metadata": {},
   "source": [
    "### 10) WAP to copy a list."
   ]
  },
  {
   "cell_type": "code",
   "execution_count": 93,
   "metadata": {},
   "outputs": [
    {
     "name": "stdin",
     "output_type": "stream",
     "text": [
      "Enter Number With Comma :  1,2,3,4,5\n"
     ]
    },
    {
     "name": "stdout",
     "output_type": "stream",
     "text": [
      "COPY :  [1, 2, 3, 4, 5]\n"
     ]
    }
   ],
   "source": [
    "list1=[]\n",
    "element = input(\"Enter Number With Comma : \")\n",
    "list1=[int(i) for i in element.split(',')]\n",
    "\n",
    "copy_list=list1.copy()\n",
    "print(\"COPY : \",copy_list)"
   ]
  },
  {
   "cell_type": "markdown",
   "metadata": {},
   "source": [
    "### 11) WAP to print all odd numbers in a given range."
   ]
  },
  {
   "cell_type": "code",
   "execution_count": 95,
   "metadata": {},
   "outputs": [
    {
     "name": "stdin",
     "output_type": "stream",
     "text": [
      "Enter Number With Comma :  1,2,3,4,5\n"
     ]
    },
    {
     "name": "stdout",
     "output_type": "stream",
     "text": [
      "[1, 3, 5]\n"
     ]
    }
   ],
   "source": [
    "list1=[]\n",
    "element = input(\"Enter Number With Comma : \")\n",
    "list1=[int(i) for i in element.split(',')]\n",
    "\n",
    "new=[]\n",
    "\n",
    "for i in list1:\n",
    "    if(i%2!=0):\n",
    "        new.append(i)\n",
    "print(new)"
   ]
  },
  {
   "cell_type": "markdown",
   "metadata": {},
   "source": [
    "### 12) WAP to count occurrences of an element in a list."
   ]
  },
  {
   "cell_type": "code",
   "execution_count": 116,
   "metadata": {},
   "outputs": [
    {
     "name": "stdin",
     "output_type": "stream",
     "text": [
      "Enter Number With Comma :  1,2,3,2,4,5,2\n",
      "Enter the element to count its occurrences:  2\n"
     ]
    },
    {
     "name": "stdout",
     "output_type": "stream",
     "text": [
      "[1, 2, 3, 2, 4, 5, 2]\n",
      "3\n"
     ]
    }
   ],
   "source": [
    "list1=[]\n",
    "element = input(\"Enter Number With Comma : \")\n",
    "list1=[int(i) for i in element.split(',')]\n",
    "\n",
    "element = int(input(\"Enter the element to count its occurrences: \"))\n",
    "print(list1)\n",
    "count = 0\n",
    "for i in list1:\n",
    "    if(i==element):\n",
    "        count+=1\n",
    "print(count)"
   ]
  },
  {
   "cell_type": "markdown",
   "metadata": {},
   "source": [
    "### 13) WAP to find second largest number in a list."
   ]
  },
  {
   "cell_type": "code",
   "execution_count": 120,
   "metadata": {
    "scrolled": true
   },
   "outputs": [
    {
     "name": "stdin",
     "output_type": "stream",
     "text": [
      "Enter Number With Comma :  1,4,2,5,7,2\n"
     ]
    },
    {
     "name": "stdout",
     "output_type": "stream",
     "text": [
      "Second Large =  5\n"
     ]
    }
   ],
   "source": [
    "list1=[]\n",
    "element = input(\"Enter Number With Comma : \")\n",
    "list1=[int(i) for i in element.split(',')]\n",
    "\n",
    "list1.sort(reverse=True)\n",
    "print(\"Second Large = \",list1[1])"
   ]
  },
  {
   "cell_type": "markdown",
   "metadata": {},
   "source": [
    "### 14) WAP to extract elements with frequency greater than K."
   ]
  },
  {
   "cell_type": "code",
   "execution_count": 128,
   "metadata": {},
   "outputs": [
    {
     "name": "stdin",
     "output_type": "stream",
     "text": [
      "Enter Number With Comma :  1,2,3,2,4,3,5\n",
      "Enter the frequency K:  1\n"
     ]
    },
    {
     "name": "stdout",
     "output_type": "stream",
     "text": [
      "The required elements :  [2, 3]\n"
     ]
    }
   ],
   "source": [
    "list1=[]\n",
    "element = input(\"Enter Number With Comma : \")\n",
    "list1=[int(i) for i in element.split(',')]\n",
    "\n",
    "k = int(input(\"Enter the frequency K: \"))\n",
    "\n",
    "ans=[]\n",
    "\n",
    "for i in list1:\n",
    "    freq = list1.count(i)\n",
    "\n",
    "    if(freq>k and i not in ans):\n",
    "        ans.append(i)\n",
    "\n",
    "\n",
    "print(\"The required elements : \",ans)"
   ]
  },
  {
   "cell_type": "markdown",
   "metadata": {},
   "source": [
    "### 15) WAP to create a list of squared numbers from 0 to 9 with and without using List Comprehension."
   ]
  },
  {
   "cell_type": "code",
   "execution_count": 130,
   "metadata": {},
   "outputs": [
    {
     "name": "stdin",
     "output_type": "stream",
     "text": [
      "Enter Number With Comma :  1,2,3,4,5\n"
     ]
    },
    {
     "name": "stdout",
     "output_type": "stream",
     "text": [
      "[1, 4, 9, 16, 25]\n"
     ]
    }
   ],
   "source": [
    "list1=[]\n",
    "element = input(\"Enter Number With Comma : \")\n",
    "list1=[int(i) for i in element.split(',')]\n",
    "\n",
    "ans=[]\n",
    "\n",
    "for i in list1:\n",
    "    ans.append(i*i)\n",
    "print(ans)"
   ]
  },
  {
   "cell_type": "markdown",
   "metadata": {},
   "source": [
    "### 16) WAP to create a new list (fruit whose name starts with 'b') from the list of fruits given by user."
   ]
  },
  {
   "cell_type": "code",
   "execution_count": 144,
   "metadata": {},
   "outputs": [
    {
     "name": "stdin",
     "output_type": "stream",
     "text": [
      "Enter Fruit Name With Comma :  Mango,Apple,Banana,Pineapple,BlueBerry,Blackberry\n"
     ]
    },
    {
     "name": "stdout",
     "output_type": "stream",
     "text": [
      "Fruits whose names start with 'b': ['Banana', 'BlueBerry', 'Blackberry']\n"
     ]
    }
   ],
   "source": [
    "list1=[]\n",
    "element = input(\"Enter Fruit Name With Comma : \")\n",
    "list1=[i for i in element.split(',')]\n",
    "\n",
    "fruit_with_B = [i for i in list1 if i.lower().startswith('b')]\n",
    "\n",
    "print(\"Fruits whose names start with 'b':\", fruit_with_B)"
   ]
  },
  {
   "cell_type": "markdown",
   "metadata": {},
   "source": [
    "### 17) WAP to create a list of common elements from given two lists."
   ]
  },
  {
   "cell_type": "code",
   "execution_count": 136,
   "metadata": {},
   "outputs": [
    {
     "name": "stdin",
     "output_type": "stream",
     "text": [
      "Enter Number With Comma :  1,2,3,4,5,6,7,8\n",
      "Enter Number With Comma :  2,4,6,8,12,34,67\n"
     ]
    },
    {
     "name": "stdout",
     "output_type": "stream",
     "text": [
      "Common elements from given two lists :  [2, 4, 6, 8]\n"
     ]
    }
   ],
   "source": [
    "list1=[]\n",
    "element = input(\"Enter Number With Comma : \")\n",
    "list1=[int(i) for i in element.split(',')]\n",
    "\n",
    "list2=[]\n",
    "element = input(\"Enter Number With Comma : \")\n",
    "list2=[int(i) for i in element.split(',')]\n",
    "\n",
    "ans=[i for i in list1 if i in list2]\n",
    "\n",
    "print(\"Common elements from given two lists : \",ans)\n",
    "\n"
   ]
  }
 ],
 "metadata": {
  "kernelspec": {
   "display_name": "Python 3 (ipykernel)",
   "language": "python",
   "name": "python3"
  },
  "language_info": {
   "codemirror_mode": {
    "name": "ipython",
    "version": 3
   },
   "file_extension": ".py",
   "mimetype": "text/x-python",
   "name": "python",
   "nbconvert_exporter": "python",
   "pygments_lexer": "ipython3",
   "version": "3.12.7"
  }
 },
 "nbformat": 4,
 "nbformat_minor": 4
}
