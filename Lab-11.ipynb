{
 "cells": [
  {
   "attachments": {},
   "cell_type": "markdown",
   "metadata": {},
   "source": [
    "<a href='https://www.darshan.ac.in/'> <img src='https://www.darshan.ac.in/Content/media/DU_Logo.svg' width=\"250\" height=\"300\"/></a>\n",
    "<pre>\n",
    "<center><b><h1>Python Programming - 2301CS404</b></center>\n",
    "<center><b><h1>Lab - 11</b></center>    \n",
    "<center><b><h1>Jeet Bhalodi (23031701006) \n",
    "18-02-2024</b></center>\n",
    "<pre>"
   ]
  },
  {
   "cell_type": "markdown",
   "metadata": {},
   "source": [
    "# Modules"
   ]
  },
  {
   "cell_type": "markdown",
   "metadata": {},
   "source": [
    "### 01) WAP to create Calculator module which defines functions like add, sub,mul and div. \n",
    "### Create another .py file that uses the functions available in Calculator module."
   ]
  },
  {
   "cell_type": "code",
   "execution_count": 35,
   "metadata": {},
   "outputs": [
    {
     "name": "stdin",
     "output_type": "stream",
     "text": [
      "Enter a :  10\n",
      "Enter b :  5\n"
     ]
    },
    {
     "name": "stdout",
     "output_type": "stream",
     "text": [
      "Addition: 15\n",
      "Subtraction: 5\n",
      "Multiplication: 50\n",
      "Division: 2.0\n"
     ]
    }
   ],
   "source": [
    "import calc\n",
    "\n",
    "a = int(input(\"Enter a : \"))\n",
    "b = int(input(\"Enter b : \"))\n",
    "print(f\"Addition: {calc.add(a, b)}\")\n",
    "print(f\"Subtraction: {calc.sub(a, b)}\")\n",
    "print(f\"Multiplication: {calc.mul(a, b)}\")\n",
    "print(f\"Division: {calc.div(a, b)}\")"
   ]
  },
  {
   "cell_type": "markdown",
   "metadata": {},
   "source": [
    "### 02) WAP to pick a random character from a given String."
   ]
  },
  {
   "cell_type": "code",
   "execution_count": 20,
   "metadata": {},
   "outputs": [
    {
     "name": "stdin",
     "output_type": "stream",
     "text": [
      "Enter String :  Jeettt\n"
     ]
    },
    {
     "name": "stdout",
     "output_type": "stream",
     "text": [
      "Random character from the string 'Jeettt': t\n"
     ]
    }
   ],
   "source": [
    "import random\n",
    "\n",
    "def pick_random_character(input_string):\n",
    "    if len(input_string) == 0:\n",
    "        return \"Input string is empty\"\n",
    "    return random.choice(input_string)\n",
    "\n",
    "input_string = input(\"Enter String : \")\n",
    "random_character = pick_random_character(input_string)\n",
    "print(f\"Random character from the string '{input_string}': {random_character}\")"
   ]
  },
  {
   "cell_type": "markdown",
   "metadata": {},
   "source": [
    "### 03) WAP to pick a random element from a given list."
   ]
  },
  {
   "cell_type": "code",
   "execution_count": 33,
   "metadata": {},
   "outputs": [
    {
     "name": "stdout",
     "output_type": "stream",
     "text": [
      "Random element from the list [1, 2, 3, 4, 5, 'a', 'b', 'c']: 5\n"
     ]
    }
   ],
   "source": [
    "import random\n",
    "\n",
    "def pick_random_element(input_list):\n",
    "    if len(input_list) == 0:\n",
    "        return \"Input list is empty\"\n",
    "    return random.choice(input_list)\n",
    "\n",
    "input_list = [1, 2, 3, 4, 5, 'a', 'b', 'c']\n",
    "random_element = pick_random_element(input_list)\n",
    "print(f\"Random element from the list {input_list}: {random_element}\")"
   ]
  },
  {
   "cell_type": "markdown",
   "metadata": {},
   "source": [
    "### 04) WAP to roll a dice in such a way that every time you get the same number."
   ]
  },
  {
   "cell_type": "code",
   "execution_count": 92,
   "metadata": {},
   "outputs": [
    {
     "name": "stdout",
     "output_type": "stream",
     "text": [
      "3\n"
     ]
    }
   ],
   "source": [
    "import random\n",
    "\n",
    "dice = [1,2,3,4,5,6]\n",
    "random.seed(23)\n",
    "print(random.choice(dice))"
   ]
  },
  {
   "cell_type": "markdown",
   "metadata": {},
   "source": [
    "### 05) WAP to generate 3 random integers between 100 and 999 which is divisible by 5."
   ]
  },
  {
   "cell_type": "code",
   "execution_count": 82,
   "metadata": {},
   "outputs": [
    {
     "name": "stdout",
     "output_type": "stream",
     "text": [
      "Random integers between 100 and 999 that are divisible by 5: [200, 940, 395]\n"
     ]
    }
   ],
   "source": [
    "import random\n",
    "\n",
    "def generate_random_integers():\n",
    "    random_integers = []\n",
    "    while len(random_integers) < 3:\n",
    "        num = random.randint(100, 999)\n",
    "        if num % 5 == 0:\n",
    "            random_integers.append(num)\n",
    "    return random_integers\n",
    "\n",
    "random_integers = generate_random_integers()\n",
    "print(f\"Random integers between 100 and 999 that are divisible by 5: {random_integers}\")\n"
   ]
  },
  {
   "cell_type": "markdown",
   "metadata": {},
   "source": [
    "### 06) WAP to generate 100 random lottery tickets and pick two lucky tickets from it and announce them as Winner and Runner up respectively."
   ]
  },
  {
   "cell_type": "code",
   "execution_count": 17,
   "metadata": {},
   "outputs": [
    {
     "name": "stdout",
     "output_type": "stream",
     "text": [
      "Winner :  8\n",
      "Runner up :  55\n"
     ]
    }
   ],
   "source": [
    "import random\n",
    "\n",
    "li=[i for i in range(1,101)]\n",
    "winners = random.sample(li,k=2)\n",
    "print(\"Winner : \",winners[0])\n",
    "print(\"Runner up : \",winners[1])"
   ]
  },
  {
   "cell_type": "markdown",
   "metadata": {},
   "source": [
    "### 07) WAP to print current date and time in Python."
   ]
  },
  {
   "cell_type": "code",
   "execution_count": 102,
   "metadata": {},
   "outputs": [
    {
     "name": "stdout",
     "output_type": "stream",
     "text": [
      "2025-02-18 10:38:53.230246\n"
     ]
    }
   ],
   "source": [
    "import datetime\n",
    "\n",
    "print(datetime.datetime.now())"
   ]
  },
  {
   "cell_type": "markdown",
   "metadata": {},
   "source": [
    "### 08) Subtract a week (7 days) from a given date in Python."
   ]
  },
  {
   "cell_type": "code",
   "execution_count": 109,
   "metadata": {},
   "outputs": [
    {
     "name": "stdout",
     "output_type": "stream",
     "text": [
      "Given date: 2025-02-10 00:00:00\n",
      "Date after subtracting a week: 2025-02-03 00:00:00\n"
     ]
    }
   ],
   "source": [
    "from datetime import datetime, timedelta\n",
    "\n",
    "def subtract_week(given_date):\n",
    "    return given_date - timedelta(days=7)\n",
    "\n",
    "given_date = datetime(2025, 2, 10)\n",
    "new_date = subtract_week(given_date)\n",
    "print(\"Given date:\", given_date)\n",
    "print(\"Date after subtracting a week:\", new_date)\n"
   ]
  },
  {
   "cell_type": "markdown",
   "metadata": {},
   "source": [
    "### 09) WAP to Calculate number of days between two given dates."
   ]
  },
  {
   "cell_type": "code",
   "execution_count": 111,
   "metadata": {},
   "outputs": [
    {
     "name": "stdout",
     "output_type": "stream",
     "text": [
      "Number of days between 2025-02-01 and 2025-02-10: 9 days\n"
     ]
    }
   ],
   "source": [
    "from datetime import datetime\n",
    "\n",
    "def calculate_days_between_dates(date1, date2):\n",
    "    delta = date2 - date1\n",
    "    return delta.days\n",
    "\n",
    "date1 = datetime(2025, 2, 1) \n",
    "date2 = datetime(2025, 2, 10) \n",
    "\n",
    "number_of_days = calculate_days_between_dates(date1, date2)\n",
    "print(f\"Number of days between {date1.date()} and {date2.date()}: {number_of_days} days\")\n"
   ]
  },
  {
   "cell_type": "markdown",
   "metadata": {},
   "source": [
    "### 10) WAP to Find the day of the week of a given date.(i.e. wether it is sunday/monday/tuesday/etc.)"
   ]
  },
  {
   "cell_type": "code",
   "execution_count": 119,
   "metadata": {},
   "outputs": [
    {
     "name": "stdout",
     "output_type": "stream",
     "text": [
      "The day of the week for 2006-02-24 is Friday.\n"
     ]
    }
   ],
   "source": [
    "from datetime import datetime\n",
    "\n",
    "def find_day_of_week(date_string):\n",
    "    date_object = datetime.strptime(date_string, \"%Y-%m-%d\")\n",
    "    \n",
    "    day_of_week = date_object.weekday()\n",
    "    \n",
    "    days = [\"Monday\", \"Tuesday\", \"Wednesday\", \"Thursday\", \"Friday\", \"Saturday\", \"Sunday\"]\n",
    "    return days[day_of_week]\n",
    "\n",
    "input_date = \"2006-02-24\"\n",
    "day_of_week = find_day_of_week(input_date)\n",
    "print(f\"The day of the week for {input_date} is {day_of_week}.\")"
   ]
  },
  {
   "cell_type": "markdown",
   "metadata": {},
   "source": [
    "### 11) WAP to demonstrate the use of date time module."
   ]
  },
  {
   "cell_type": "code",
   "execution_count": 186,
   "metadata": {},
   "outputs": [
    {
     "name": "stdout",
     "output_type": "stream",
     "text": [
      "Current date and time: 2025-02-18 10:59:05.243472\n",
      "Current date: 2025-02-18\n",
      "Specific date: 2025-02-10\n",
      "Number of days between 2025-02-01 and 2025-02-24: 23 days\n",
      "Date after adding a week: 2025-02-17\n",
      "Date and time after subtracting a week: 2025-02-11 10:59:05.243472\n",
      "Formatted date and time: 2025-02-18 10:59:05\n",
      "Parsed datetime: 2025-02-10 17:43:00\n"
     ]
    }
   ],
   "source": [
    "from datetime import datetime, timedelta, date\n",
    "\n",
    "current_datetime = datetime.now()\n",
    "print(\"Current date and time:\", current_datetime)\n",
    "\n",
    "current_date = date.today()\n",
    "print(\"Current date:\", current_date)\n",
    "\n",
    "specific_date = date(2025, 2, 10)\n",
    "print(\"Specific date:\", specific_date)\n",
    "\n",
    "date1 = date(2025, 2, 1)\n",
    "date2 = date(2025, 2, 24)\n",
    "delta = date2 - date1\n",
    "print(f\"Number of days between {date1} and {date2}: {delta.days} days\")\n",
    "\n",
    "new_date = specific_date + timedelta(days=7)\n",
    "print(\"Date after adding a week:\", new_date)\n",
    "\n",
    "new_datetime = current_datetime - timedelta(days=7)\n",
    "print(\"Date and time after subtracting a week:\", new_datetime)\n",
    "\n",
    "formatted_date = current_datetime.strftime(\"%Y-%m-%d %H:%M:%S\")\n",
    "print(\"Formatted date and time:\", formatted_date)\n",
    "\n",
    "date_string = \"2025-02-10 17:43:00\"\n",
    "parsed_datetime = datetime.strptime(date_string, \"%Y-%m-%d %H:%M:%S\")\n",
    "print(\"Parsed datetime:\", parsed_datetime)\n"
   ]
  },
  {
   "cell_type": "markdown",
   "metadata": {},
   "source": [
    "### 12) WAP to demonstrate the use of the math module."
   ]
  },
  {
   "cell_type": "code",
   "execution_count": 184,
   "metadata": {},
   "outputs": [
    {
     "name": "stdout",
     "output_type": "stream",
     "text": [
      "Square root of 16 is 4.0\n",
      "Factorial of 5 is 120\n",
      "GCD of 48 and 18 is 6\n",
      "Sine of 45 degrees is 0.7071067811865476\n",
      "Cosine of 45 degrees is 0.7071067811865476\n",
      "Tangent of 45 degrees is 0.9999999999999999\n",
      "90 degrees is 1.5707963267948966 radians\n",
      "1.5707963267948966 radians is 90.0 degrees\n",
      "e^2 is 7.38905609893065\n",
      "Natural logarithm of 10 is 2.302585092994046\n",
      "2 raised to the power of 3 is 8.0\n"
     ]
    }
   ],
   "source": [
    "import math\n",
    "\n",
    "number = 16\n",
    "sqrt_result = math.sqrt(number)\n",
    "print(f\"Square root of {number} is {sqrt_result}\")\n",
    "\n",
    "number = 5\n",
    "factorial_result = math.factorial(number)\n",
    "print(f\"Factorial of {number} is {factorial_result}\")\n",
    "\n",
    "number1 = 48\n",
    "number2 = 18\n",
    "gcd_result = math.gcd(number1, number2)\n",
    "print(f\"GCD of {number1} and {number2} is {gcd_result}\")\n",
    "\n",
    "angle = math.pi / 4 \n",
    "sine_result = math.sin(angle)\n",
    "cosine_result = math.cos(angle)\n",
    "tangent_result = math.tan(angle)\n",
    "print(f\"Sine of 45 degrees is {sine_result}\")\n",
    "print(f\"Cosine of 45 degrees is {cosine_result}\")\n",
    "print(f\"Tangent of 45 degrees is {tangent_result}\")\n",
    "\n",
    "degrees = 90\n",
    "radians = math.radians(degrees)\n",
    "print(f\"{degrees} degrees is {radians} radians\")\n",
    "\n",
    "radians = math.pi / 2\n",
    "degrees = math.degrees(radians)\n",
    "print(f\"{radians} radians is {degrees} degrees\")\n",
    "\n",
    "number = 2\n",
    "exp_result = math.exp(number)\n",
    "print(f\"e^{number} is {exp_result}\")\n",
    "\n",
    "number = 10\n",
    "log_result = math.log(number)\n",
    "print(f\"Natural logarithm of {number} is {log_result}\")\n",
    "\n",
    "base = 2\n",
    "exponent = 3\n",
    "pow_result = math.pow(base, exponent)\n",
    "print(f\"{base} raised to the power of {exponent} is {pow_result}\")"
   ]
  }
 ],
 "metadata": {
  "kernelspec": {
   "display_name": "Python 3 (ipykernel)",
   "language": "python",
   "name": "python3"
  },
  "language_info": {
   "codemirror_mode": {
    "name": "ipython",
    "version": 3
   },
   "file_extension": ".py",
   "mimetype": "text/x-python",
   "name": "python",
   "nbconvert_exporter": "python",
   "pygments_lexer": "ipython3",
   "version": "3.12.7"
  }
 },
 "nbformat": 4,
 "nbformat_minor": 4
}
