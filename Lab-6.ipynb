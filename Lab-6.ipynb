{
 "cells": [
  {
   "attachments": {},
   "cell_type": "markdown",
   "metadata": {},
   "source": [
    "<a href='https://www.darshan.ac.in/'> <img src='https://www.darshan.ac.in/Content/media/DU_Logo.svg' width=\"250\" height=\"300\"/></a>\n",
    "<pre>\n",
    "<center><b><h1>Python Programming - 2301CS404</b></center>\n",
    "<center><b><h1>Lab - 6</b></center>    \n",
    "<center><b><h1>Jeet Bhalodi (23031701006) \n",
    "31-12-2024</b></center> \n",
    "<pre>"
   ]
  },
  {
   "cell_type": "markdown",
   "metadata": {},
   "source": [
    "# Tuple"
   ]
  },
  {
   "cell_type": "markdown",
   "metadata": {},
   "source": [
    "### 01) WAP to find sum of tuple elements."
   ]
  },
  {
   "cell_type": "code",
   "execution_count": 3,
   "metadata": {},
   "outputs": [
    {
     "name": "stdin",
     "output_type": "stream",
     "text": [
      "Enter the elements of the tuple separated by spaces:  1,2,3,4,5\n"
     ]
    },
    {
     "name": "stdout",
     "output_type": "stream",
     "text": [
      "The sum of the tuple elements is: 15\n"
     ]
    }
   ],
   "source": [
    "user_input = input(\"Enter the elements of the tuple separated by comma: \")\n",
    "\n",
    "my_tuple = tuple(int(x) for x in user_input.split(','))\n",
    "\n",
    "tuple_sum = sum(my_tuple)\n",
    "\n",
    "print(\"The sum of the tuple elements is:\", tuple_sum)"
   ]
  },
  {
   "cell_type": "markdown",
   "metadata": {},
   "source": [
    "### 02) WAP to find Maximum and Minimum K elements in a given tuple."
   ]
  },
  {
   "cell_type": "code",
   "execution_count": 7,
   "metadata": {},
   "outputs": [
    {
     "name": "stdin",
     "output_type": "stream",
     "text": [
      "Enter the elements of the tuple separated by comma:  1,2,3,4,5,6\n",
      "Enter the value of K:  3\n"
     ]
    },
    {
     "name": "stdout",
     "output_type": "stream",
     "text": [
      "Minimum K elements: [1, 2, 3]\n",
      "Maximum K elements: [4, 5, 6]\n"
     ]
    }
   ],
   "source": [
    "user_input = input(\"Enter the elements of the tuple separated by comma: \")\n",
    "my_tuple = tuple(int(x) for x in user_input.split(','))\n",
    "\n",
    "k = int(input(\"Enter the value of K: \"))\n",
    "\n",
    "if k > len(my_tuple):\n",
    "    print(\"K should not be greater than the number of elements in the tuple.\")\n",
    "else:\n",
    "    sorted_tuple = sorted(my_tuple)\n",
    "    min = sorted_tuple[:k]\n",
    "    max = sorted_tuple[-k:]\n",
    "\n",
    "    # Print the results\n",
    "    print(\"Minimum K elements:\", min)\n",
    "    print(\"Maximum K elements:\", max)"
   ]
  },
  {
   "cell_type": "markdown",
   "metadata": {},
   "source": [
    "### 03) WAP to find tuples which have all elements divisible by K from a list of tuples."
   ]
  },
  {
   "cell_type": "code",
   "execution_count": 47,
   "metadata": {},
   "outputs": [
    {
     "name": "stdin",
     "output_type": "stream",
     "text": [
      "Enter the number of tuples:  3\n",
      "Enter the elements of the tuple separated by comma:  1,5,10\n",
      "Enter the elements of the tuple separated by comma:  2,4,6\n",
      "Enter the elements of the tuple separated by comma:  25,35,45\n",
      "Enter the value of K:  5\n"
     ]
    },
    {
     "name": "stdout",
     "output_type": "stream",
     "text": [
      "Tuples with all elements divisible by 1 are: [(25, 35, 45)]\n"
     ]
    }
   ],
   "source": [
    "num_tuples = int(input(\"Enter the number of tuples: \"))\n",
    "tuples_list = []\n",
    "\n",
    "for _ in range(num_tuples):\n",
    "    tuple_input = input(\"Enter the elements of the tuple separated by comma: \")\n",
    "    tuple_elements = tuple(map(int, tuple_input.split(',')))\n",
    "    tuples_list.append(tuple_elements)\n",
    "\n",
    "k = int(input(\"Enter the value of K: \"))\n",
    "\n",
    "divisible_tuples = [i for i in tuples_list if all(x % k == 0 for x in i)]\n",
    "\n",
    "print(f\"Tuples with all elements divisible by {K} are:\", divisible_tuples)\n"
   ]
  },
  {
   "cell_type": "markdown",
   "metadata": {},
   "source": [
    "### 04) WAP to create a list of tuples from given list having number and its cube in each tuple."
   ]
  },
  {
   "cell_type": "code",
   "execution_count": 44,
   "metadata": {},
   "outputs": [
    {
     "name": "stdin",
     "output_type": "stream",
     "text": [
      "Enter the elements of the tuple separated by commas:  1,2,3,4,5\n"
     ]
    },
    {
     "name": "stdout",
     "output_type": "stream",
     "text": [
      "List of tuples with number and its cube: [(1, 1), (2, 8), (3, 27), (4, 64), (5, 125)]\n"
     ]
    }
   ],
   "source": [
    "user_input = input(\"Enter the elements of the tuple separated by commas: \")\n",
    "my_tuple = tuple(int(x) for x in user_input.split(','))\n",
    "\n",
    "cubed_tuples = [(i, i**3) for i in my_tuple]\n",
    "\n",
    "print(\"List of tuples with number and its cube:\", cubed_tuples)"
   ]
  },
  {
   "cell_type": "markdown",
   "metadata": {},
   "source": [
    "### 05) WAP to find tuples with all positive elements from the given list of tuples."
   ]
  },
  {
   "cell_type": "code",
   "execution_count": 25,
   "metadata": {},
   "outputs": [
    {
     "name": "stdin",
     "output_type": "stream",
     "text": [
      "Enter the number of tuples:  3\n",
      "Enter the elements of the tuple separated by comma:  1,2\n",
      "Enter the elements of the tuple separated by comma:  2,-3\n",
      "Enter the elements of the tuple separated by comma:  4,-6\n"
     ]
    },
    {
     "name": "stdout",
     "output_type": "stream",
     "text": [
      "Tuples with all positive elements are: [(1, 2)]\n"
     ]
    }
   ],
   "source": [
    "num_tuples = int(input(\"Enter the number of tuples: \"))\n",
    "tuples_list = []\n",
    "\n",
    "for _ in range(num_tuples):\n",
    "    tuple_input = input(\"Enter the elements of the tuple separated by comma: \")\n",
    "    tuple_elements = tuple(map(int, tuple_input.split(',')))\n",
    "    tuples_list.append(tuple_elements)\n",
    "\n",
    "\n",
    "positive_tuples = [i for i in tuples_list if all(x > 0 for x in i)]\n",
    "\n",
    "print(\"Tuples with all positive elements are:\", positive_tuples)"
   ]
  },
  {
   "cell_type": "markdown",
   "metadata": {},
   "source": [
    "### 06) WAP to add tuple to list and vice – versa."
   ]
  },
  {
   "cell_type": "code",
   "execution_count": 1,
   "metadata": {},
   "outputs": [
    {
     "name": "stdin",
     "output_type": "stream",
     "text": [
      "Enter element in tuple :  1,2,3\n",
      "Enter element in list :  4,5,6\n"
     ]
    },
    {
     "name": "stdout",
     "output_type": "stream",
     "text": [
      "[4, 5, 6, (1, 2, 3)]\n"
     ]
    },
    {
     "name": "stdin",
     "output_type": "stream",
     "text": [
      "Enter element in list :  7,8,9\n"
     ]
    },
    {
     "name": "stdout",
     "output_type": "stream",
     "text": [
      "(1, 2, 3, 7, 8, 9)\n"
     ]
    }
   ],
   "source": [
    "element=input(\"Enter element in tuple : \")\n",
    "my_tuple=tuple(int(i) for i in element.split(','))\n",
    "\n",
    "element=input(\"Enter element in list : \")\n",
    "my_list=[int(i) for i in element.split(',')]\n",
    "\n",
    "my_list.append(my_tuple)\n",
    "print(my_list)\n",
    "\n",
    "element=input(\"Enter element in list : \")\n",
    "my_list2=[int(i) for i in element.split(',')]\n",
    "\n",
    "new_tuple = my_tuple + tuple(my_list2)\n",
    "print(new_tuple)"
   ]
  },
  {
   "cell_type": "markdown",
   "metadata": {},
   "source": [
    "### 07) WAP to remove tuples of length K."
   ]
  },
  {
   "cell_type": "code",
   "execution_count": 29,
   "metadata": {},
   "outputs": [
    {
     "name": "stdin",
     "output_type": "stream",
     "text": [
      "Enter the number of tuples:  4\n",
      "Enter the elements of the tuple separated by comma:  1\n",
      "Enter the elements of the tuple separated by comma:  2,3\n",
      "Enter the elements of the tuple separated by comma:  4,5,6\n",
      "Enter the elements of the tuple separated by comma:  7\n",
      "Enter the length of tuples to remove:  1\n"
     ]
    },
    {
     "name": "stdout",
     "output_type": "stream",
     "text": [
      "Tuples after removing those of length 1 are: [(2, 3), (4, 5, 6)]\n"
     ]
    }
   ],
   "source": [
    "num_tuples = int(input(\"Enter the number of tuples: \"))\n",
    "tuples_list = []\n",
    "\n",
    "for _ in range(num_tuples):\n",
    "    tuple_input = input(\"Enter the elements of the tuple separated by comma: \")\n",
    "    tuple_elements = tuple(map(int, tuple_input.split(',')))\n",
    "    tuples_list.append(tuple_elements)\n",
    "\n",
    "k = int(input(\"Enter the length of tuples to remove: \"))\n",
    "\n",
    "filtered_tuples = [i for i in tuples_list if len(i) != K]\n",
    "\n",
    "print(f\"Tuples after removing those of length {k} are:\", filtered_tuples)\n"
   ]
  },
  {
   "cell_type": "markdown",
   "metadata": {},
   "source": [
    "### 08) WAP to remove duplicates from tuple."
   ]
  },
  {
   "cell_type": "code",
   "execution_count": 31,
   "metadata": {},
   "outputs": [
    {
     "name": "stdin",
     "output_type": "stream",
     "text": [
      "Enter the elements of the tuple separated by comma:  1,2,3,4,5,3,2,4\n"
     ]
    },
    {
     "name": "stdout",
     "output_type": "stream",
     "text": [
      "Tuple after removing duplicates: (1, 2, 3, 4, 5)\n"
     ]
    }
   ],
   "source": [
    "user_input = input(\"Enter the elements of the tuple separated by comma: \")\n",
    "my_tuple = tuple(int(x) for x in user_input.split(','))\n",
    "\n",
    "unique_tuple = tuple(set(my_tuple))\n",
    "print(\"Tuple after removing duplicates:\", unique_tuple)"
   ]
  },
  {
   "cell_type": "markdown",
   "metadata": {},
   "source": [
    "### 09) WAP to multiply adjacent elements of a tuple and print that resultant tuple."
   ]
  },
  {
   "cell_type": "code",
   "execution_count": 53,
   "metadata": {},
   "outputs": [
    {
     "name": "stdin",
     "output_type": "stream",
     "text": [
      "Enter the elements of the tuple separated by comma:  1,2,3,4,5\n"
     ]
    },
    {
     "name": "stdout",
     "output_type": "stream",
     "text": [
      "The resultant tuple is: ((2, 6, 12, 20),)\n"
     ]
    }
   ],
   "source": [
    "user_input = input(\"Enter the elements of the tuple separated by comma: \")\n",
    "my_tuple = tuple(int(x) for x in user_input.split(','))\n",
    "\n",
    "result_tuple = tuple(my_tuple[i] * my_tuple[i+1] for i in range(len(my_tuple)-1)),\n",
    "print(\"The resultant tuple is:\", result_tuple)"
   ]
  },
  {
   "cell_type": "markdown",
   "metadata": {},
   "source": [
    "### 10) WAP to test if the given tuple is distinct or not."
   ]
  },
  {
   "cell_type": "code",
   "execution_count": 37,
   "metadata": {},
   "outputs": [
    {
     "name": "stdin",
     "output_type": "stream",
     "text": [
      "Enter the elements of the tuple separated by comma:  1,2,3,4\n"
     ]
    },
    {
     "name": "stdout",
     "output_type": "stream",
     "text": [
      "The tuple is distinct.\n"
     ]
    }
   ],
   "source": [
    "user_input = input(\"Enter the elements of the tuple separated by comma: \")\n",
    "my_tuple = tuple(int(x) for x in user_input.split(','))\n",
    "\n",
    "if len(my_tuple) == len(set(my_tuple)): \n",
    "    print(\"The tuple is distinct.\") \n",
    "else: \n",
    "    print(\"The tuple is not distinct.\")"
   ]
  }
 ],
 "metadata": {
  "kernelspec": {
   "display_name": "Python 3 (ipykernel)",
   "language": "python",
   "name": "python3"
  },
  "language_info": {
   "codemirror_mode": {
    "name": "ipython",
    "version": 3
   },
   "file_extension": ".py",
   "mimetype": "text/x-python",
   "name": "python",
   "nbconvert_exporter": "python",
   "pygments_lexer": "ipython3",
   "version": "3.12.7"
  }
 },
 "nbformat": 4,
 "nbformat_minor": 4
}
