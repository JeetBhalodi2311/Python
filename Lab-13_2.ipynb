{
 "cells": [
  {
   "cell_type": "markdown",
   "metadata": {},
   "source": [
    "<a href='https://www.darshan.ac.in/'> <img src='https://www.darshan.ac.in/Content/media/DU_Logo.svg' width=\"250\" height=\"300\"/></a>\n",
    "<pre>\n",
    "<center><b><h1>Python Programming - 2301CS404</b></center>\n",
    "<center><b><h1>Lab - 13_2</b></center>  \n",
    "<center><b><h1>Jeet Bhalodi (23031701006) \n",
    "11-03-2025</b></center>   \n",
    "<pre>"
   ]
  },
  {
   "cell_type": "markdown",
   "metadata": {},
   "source": [
    "## Continued.."
   ]
  },
  {
   "cell_type": "markdown",
   "metadata": {},
   "source": [
    "### 10) Calculate area of a ractangle using object as an argument to a method."
   ]
  },
  {
   "cell_type": "code",
   "execution_count": 3,
   "metadata": {},
   "outputs": [
    {
     "name": "stdout",
     "output_type": "stream",
     "text": [
      "The area of the rectangle is: 50\n"
     ]
    }
   ],
   "source": [
    "class Rectangle:\n",
    "    def __init__(self, length, width):\n",
    "        self.length = length\n",
    "        self.width = width\n",
    "\n",
    "def calculate_area(rectangle):\n",
    "    return rectangle.length * rectangle.width\n",
    "\n",
    "rect = Rectangle(10, 5)\n",
    "\n",
    "area = calculate_area(rect)\n",
    "print(f\"The area of the rectangle is: {area}\")"
   ]
  },
  {
   "cell_type": "markdown",
   "metadata": {},
   "source": [
    "### 11) Calculate the area of a square. \n",
    "### Include a Constructor, a method to calculate area named area() and a method named output() that prints the output and is invoked by area()."
   ]
  },
  {
   "cell_type": "code",
   "execution_count": 5,
   "metadata": {},
   "outputs": [
    {
     "name": "stdout",
     "output_type": "stream",
     "text": [
      "The area of the square with side 4 is: 16\n"
     ]
    }
   ],
   "source": [
    "class Square:\n",
    "    def __init__(self, side):\n",
    "        self.side = side\n",
    "\n",
    "    def area(self):\n",
    "        area = self.side * self.side\n",
    "        self.output(area)\n",
    "\n",
    "    def output(self, area):\n",
    "        print(f\"The area of the square with side {self.side} is: {area}\")\n",
    "\n",
    "square = Square(4)\n",
    "square.area()"
   ]
  },
  {
   "cell_type": "markdown",
   "metadata": {},
   "source": [
    "### 12) Calculate the area of a rectangle. \n",
    "### Include a Constructor, a method to calculate area named area() and a method named output() that prints the output and is invoked by area().\n",
    "### Also define a class method that compares the two sides of reactangle. An object is instantiated only if the two sides are different; otherwise a message should be displayed : THIS IS SQUARE."
   ]
  },
  {
   "cell_type": "code",
   "execution_count": 7,
   "metadata": {},
   "outputs": [
    {
     "name": "stdout",
     "output_type": "stream",
     "text": [
      "The area of the rectangle with length 10 and width 5 is: 50\n",
      "THIS IS SQUARE.\n"
     ]
    }
   ],
   "source": [
    "class Rectangle:\n",
    "    def __init__(self, length, width):\n",
    "        self.length = length\n",
    "        self.width = width\n",
    "\n",
    "    @classmethod\n",
    "    def validate_sides(cls, length, width):\n",
    "        if length == width:\n",
    "            print(\"THIS IS SQUARE.\")\n",
    "            return None\n",
    "        else:\n",
    "            return cls(length, width)\n",
    "\n",
    "    def area(self):\n",
    "        area = self.length * self.width\n",
    "        self.output(area)\n",
    "\n",
    "    def output(self, area):\n",
    "        print(f\"The area of the rectangle with length {self.length} and width {self.width} is: {area}\")\n",
    "\n",
    "rectangle = Rectangle.validate_sides(10, 5)\n",
    "if rectangle:\n",
    "    rectangle.area()\n",
    "\n",
    "square_check = Rectangle.validate_sides(6, 6)"
   ]
  },
  {
   "cell_type": "markdown",
   "metadata": {},
   "source": [
    "### 13) Define a class Square having a private attribute \"side\". \n",
    "### Implement get_side and set_side methods to accees the private attribute from outside of the class."
   ]
  },
  {
   "cell_type": "code",
   "execution_count": 9,
   "metadata": {},
   "outputs": [
    {
     "name": "stdout",
     "output_type": "stream",
     "text": [
      "Initial side length: 5\n",
      "Updated side length: 8\n",
      "Side length must be a positive value!\n"
     ]
    }
   ],
   "source": [
    "class Square:\n",
    "    def __init__(self, side):\n",
    "        self.__side = side\n",
    "\n",
    "    def get_side(self):\n",
    "        return self.__side\n",
    "\n",
    "    def set_side(self, side):\n",
    "        if side > 0:\n",
    "            self.__side = side\n",
    "        else:\n",
    "            print(\"Side length must be a positive value!\")\n",
    "\n",
    "square = Square(5)\n",
    "\n",
    "print(f\"Initial side length: {square.get_side()}\")\n",
    "square.set_side(8)\n",
    "print(f\"Updated side length: {square.get_side()}\")\n",
    "\n",
    "square.set_side(-3)\n"
   ]
  },
  {
   "cell_type": "markdown",
   "metadata": {},
   "source": [
    "### 14) Create a class Profit that has a method named getProfit that accepts profit from the user.\n",
    "### Create a class Loss that has a method named getLoss that accepts loss from the user.\n",
    "### Create a class BalanceSheet that inherits from both classes Profit and Loss and calculates the balanace. It has two methods getBalance() and printBalance()."
   ]
  },
  {
   "cell_type": "code",
   "execution_count": 11,
   "metadata": {},
   "outputs": [
    {
     "name": "stdin",
     "output_type": "stream",
     "text": [
      "Enter the profit amount:  15600\n",
      "Enter the loss amount:  100\n"
     ]
    },
    {
     "name": "stdout",
     "output_type": "stream",
     "text": [
      "The balance is: 15500.0\n"
     ]
    }
   ],
   "source": [
    "class Profit:\n",
    "    def __init__(self):\n",
    "        self.profit = 0\n",
    "\n",
    "    def getProfit(self):\n",
    "        self.profit = float(input(\"Enter the profit amount: \"))\n",
    "\n",
    "class Loss:\n",
    "    def __init__(self):\n",
    "        self.loss = 0\n",
    "\n",
    "    def getLoss(self):\n",
    "        self.loss = float(input(\"Enter the loss amount: \"))\n",
    "\n",
    "class BalanceSheet(Profit, Loss):\n",
    "    def __init__(self):\n",
    "        Profit.__init__(self)\n",
    "        Loss.__init__(self)\n",
    "        self.balance = 0\n",
    "\n",
    "    def getBalance(self):\n",
    "        self.balance = self.profit - self.loss\n",
    "\n",
    "    def printBalance(self):\n",
    "        print(f\"The balance is: {self.balance}\")\n",
    "\n",
    "balance_sheet = BalanceSheet()\n",
    "\n",
    "balance_sheet.getProfit()\n",
    "balance_sheet.getLoss()\n",
    "\n",
    "balance_sheet.getBalance()\n",
    "balance_sheet.printBalance()\n"
   ]
  },
  {
   "attachments": {},
   "cell_type": "markdown",
   "metadata": {},
   "source": [
    "### 15) WAP to demonstrate all types of inheritance."
   ]
  },
  {
   "cell_type": "code",
   "execution_count": 27,
   "metadata": {},
   "outputs": [
    {
     "name": "stdout",
     "output_type": "stream",
     "text": [
      "Single Inheritance: Class A\n",
      "Derived Class B from A\n",
      "\n",
      "\n",
      "Single Inheritance: Class A\n",
      "Multiple Inheritance: Class C\n",
      "Derived Class D from A and C\n",
      "\n",
      "\n",
      "Single Inheritance: Class A\n",
      "Multilevel Inheritance: Class E derived from A\n",
      "Class F derived from E (A -> E -> F)\n",
      "\n",
      "\n",
      "Single Inheritance: Class A\n",
      "Hierarchical Inheritance: Class G derived from A\n",
      "Single Inheritance: Class A\n",
      "Class H derived from A\n",
      "\n",
      "\n",
      "Hybrid Inheritance: Base Class\n",
      "Class X derived from Base\n",
      "Class Y derived from Base\n",
      "Class Z derived from X and Y (Both from Base)\n"
     ]
    }
   ],
   "source": [
    "class A:\n",
    "    def displayA(self):\n",
    "        print(\"Single Inheritance: Class A\")\n",
    "\n",
    "class B(A):\n",
    "    def displayB(self):\n",
    "        print(\"Derived Class B from A\")\n",
    "\n",
    "class C:\n",
    "    def displayC(self):\n",
    "        print(\"Multiple Inheritance: Class C\")\n",
    "\n",
    "class D(A, C):\n",
    "    def displayD(self):\n",
    "        print(\"Derived Class D from A and C\")\n",
    "\n",
    "class E(A):\n",
    "    def displayE(self):\n",
    "        print(\"Multilevel Inheritance: Class E derived from A\")\n",
    "\n",
    "class F(E):\n",
    "    def displayF(self):\n",
    "        print(\"Class F derived from E (A -> E -> F)\")\n",
    "\n",
    "\n",
    "class G(A):\n",
    "    def displayG(self):\n",
    "        print(\"Hierarchical Inheritance: Class G derived from A\")\n",
    "\n",
    "class H(A):\n",
    "    def displayH(self):\n",
    "        print(\"Class H derived from A\")\n",
    "\n",
    "class Base:\n",
    "    def showBase(self):\n",
    "        print(\"Hybrid Inheritance: Base Class\")\n",
    "\n",
    "class X(Base):\n",
    "    def showX(self):\n",
    "        print(\"Class X derived from Base\")\n",
    "\n",
    "class Y(Base):\n",
    "    def showY(self):\n",
    "        print(\"Class Y derived from Base\")\n",
    "\n",
    "class Z(X, Y):\n",
    "    def showZ(self):\n",
    "        print(\"Class Z derived from X and Y (Both from Base)\")\n",
    "\n",
    "\n",
    "objB = B()\n",
    "objB.displayA()\n",
    "objB.displayB()\n",
    "print(\"\\n\")\n",
    "\n",
    "objD = D()\n",
    "objD.displayA()\n",
    "objD.displayC()\n",
    "objD.displayD()\n",
    "print(\"\\n\")\n",
    "\n",
    "objF = F()\n",
    "objF.displayA()\n",
    "objF.displayE()\n",
    "objF.displayF()\n",
    "print(\"\\n\")\n",
    "\n",
    "objG = G()\n",
    "objG.displayA()\n",
    "objG.displayG()\n",
    "\n",
    "objH = H()\n",
    "objH.displayA()\n",
    "objH.displayH()\n",
    "print(\"\\n\")\n",
    "\n",
    "objZ = Z()\n",
    "objZ.showBase()\n",
    "objZ.showX()\n",
    "objZ.showY()\n",
    "objZ.showZ()\n"
   ]
  },
  {
   "cell_type": "markdown",
   "metadata": {},
   "source": [
    "### 16) Create a Person class with a constructor that takes two arguments name and age. \n",
    "### Create a child class Employee that inherits from Person and adds a new attribute salary. \n",
    "### Override the __init__ method in Employee to call the parent class's __init__ method using the super() and then initialize the salary attribute."
   ]
  },
  {
   "cell_type": "code",
   "execution_count": 23,
   "metadata": {},
   "outputs": [
    {
     "name": "stdout",
     "output_type": "stream",
     "text": [
      "Name: Alice\n",
      "Age: 30\n",
      "Salary: 50000\n"
     ]
    }
   ],
   "source": [
    "class Person:\n",
    "    def __init__(self, name, age):\n",
    "        self.name = name\n",
    "        self.age = age\n",
    "\n",
    "class Employee(Person):\n",
    "    def __init__(self, name, age, salary):\n",
    "        super().__init__(name, age)\n",
    "        self.salary = salary\n",
    "\n",
    "employee = Employee(\"Alice\", 30, 50000)\n",
    "\n",
    "print(f\"Name: {employee.name}\")\n",
    "print(f\"Age: {employee.age}\")\n",
    "print(f\"Salary: {employee.salary}\")"
   ]
  },
  {
   "cell_type": "markdown",
   "metadata": {},
   "source": [
    "### 17) Create a Shape class with a draw method that is not implemented. \n",
    "### Create three child classes Rectangle, Circle, and Triangle that implement the draw method with their respective drawing behaviors. \n",
    "### Create a list of Shape objects that includes one instance of each child class, and then iterate through the list and call the draw method on each object."
   ]
  },
  {
   "cell_type": "code",
   "execution_count": 13,
   "metadata": {},
   "outputs": [
    {
     "name": "stdout",
     "output_type": "stream",
     "text": [
      "Drawing a Rectangle\n",
      "Drawing a Circle\n",
      "Drawing a Triangle\n"
     ]
    }
   ],
   "source": [
    "from abc import ABC, abstractmethod\n",
    "\n",
    "class Shape(ABC):\n",
    "    @abstractmethod\n",
    "    def draw(self):\n",
    "        pass\n",
    "\n",
    "class Rectangle(Shape):\n",
    "    def draw(self):\n",
    "        print(\"Drawing a Rectangle\")\n",
    "\n",
    "class Circle(Shape):\n",
    "    def draw(self):\n",
    "        print(\"Drawing a Circle\")\n",
    "\n",
    "class Triangle(Shape):\n",
    "    def draw(self):\n",
    "        print(\"Drawing a Triangle\")\n",
    "\n",
    "shapes = [Rectangle(), Circle(), Triangle()]\n",
    "\n",
    "for shape in shapes:\n",
    "    shape.draw()"
   ]
  }
 ],
 "metadata": {
  "kernelspec": {
   "display_name": "Python 3 (ipykernel)",
   "language": "python",
   "name": "python3"
  },
  "language_info": {
   "codemirror_mode": {
    "name": "ipython",
    "version": 3
   },
   "file_extension": ".py",
   "mimetype": "text/x-python",
   "name": "python",
   "nbconvert_exporter": "python",
   "pygments_lexer": "ipython3",
   "version": "3.12.7"
  }
 },
 "nbformat": 4,
 "nbformat_minor": 4
}
