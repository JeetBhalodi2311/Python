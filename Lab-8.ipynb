{
 "cells": [
  {
   "cell_type": "markdown",
   "metadata": {},
   "source": [
    "<a href='https://www.darshan.ac.in/'> <img src='https://www.darshan.ac.in/Content/media/DU_Logo.svg' width=\"250\" height=\"300\"/></a>\n",
    "<pre>\n",
    "<center><b><h1>Python Programming - 2301CS404</b></center>\n",
    "<center><b><h1>Lab - 8</b></center>  \n",
    "<center><b><h1>Jeet Bhalodi (23031701006) \n",
    "27-11-2024</b></center>\n",
    "<pre>"
   ]
  },
  {
   "cell_type": "markdown",
   "metadata": {},
   "source": [
    "# User Defined Function"
   ]
  },
  {
   "cell_type": "markdown",
   "metadata": {},
   "source": [
    "### 01) Write a function to calculate BMI given mass and height. (BMI = mass/h**2)"
   ]
  },
  {
   "cell_type": "code",
   "execution_count": 5,
   "metadata": {},
   "outputs": [
    {
     "name": "stdin",
     "output_type": "stream",
     "text": [
      "Enter Mass :  70\n",
      "Enter Height :  1.75\n"
     ]
    },
    {
     "name": "stdout",
     "output_type": "stream",
     "text": [
      "The BMI is  22.86\n"
     ]
    }
   ],
   "source": [
    "def calculate_bmi(mass, height): \n",
    "    bmi = mass / (height ** 2) \n",
    "    return bmi\n",
    "\n",
    "mass = int(input(\"Enter Mass : \"))\n",
    "height = float(input(\"Enter Height : \"))\n",
    "print(f\"The BMI is {calculate_bmi(mass, height): .2f}\")"
   ]
  },
  {
   "cell_type": "markdown",
   "metadata": {},
   "source": [
    "### 02) Write a function that add first n numbers."
   ]
  },
  {
   "cell_type": "code",
   "execution_count": 13,
   "metadata": {},
   "outputs": [
    {
     "name": "stdin",
     "output_type": "stream",
     "text": [
      "Enter N :  5\n"
     ]
    },
    {
     "name": "stdout",
     "output_type": "stream",
     "text": [
      "The sum of the first 5 numbers is : 15\n"
     ]
    }
   ],
   "source": [
    "def sum_of_first_n_numbers(n):\n",
    "    total_sum = 0\n",
    "    for i in range(1, n + 1):\n",
    "        total_sum += i\n",
    "    return total_sum\n",
    "\n",
    "n=int(input(\"Enter N : \"))\n",
    "print(f\"The sum of the first {n} numbers is : {sum_of_first_n_numbers(n)}\")\n"
   ]
  },
  {
   "cell_type": "markdown",
   "metadata": {},
   "source": [
    "### 03) Write a function that returns 1 if the given number is Prime or 0 otherwise."
   ]
  },
  {
   "cell_type": "code",
   "execution_count": 31,
   "metadata": {},
   "outputs": [
    {
     "name": "stdin",
     "output_type": "stream",
     "text": [
      "Enter N :  5\n"
     ]
    },
    {
     "name": "stdout",
     "output_type": "stream",
     "text": [
      "Is 5 a prime number? : 1\n"
     ]
    }
   ],
   "source": [
    "def is_prime(n):\n",
    "    if n <= 1:\n",
    "        return 0\n",
    "    for i in range(2, n):\n",
    "        if n % i == 0:\n",
    "            return 0\n",
    "    return 1\n",
    "\n",
    "n=int(input(\"Enter N : \"))\n",
    "print(f\"Is {n} a prime number? : {is_prime(n)}\")\n"
   ]
  },
  {
   "cell_type": "markdown",
   "metadata": {},
   "source": [
    "### 04) Write a function that returns the list of Prime numbers between given two numbers."
   ]
  },
  {
   "cell_type": "code",
   "execution_count": 35,
   "metadata": {},
   "outputs": [
    {
     "name": "stdin",
     "output_type": "stream",
     "text": [
      "Enter start :  1\n",
      "Enter end :  11\n"
     ]
    },
    {
     "name": "stdout",
     "output_type": "stream",
     "text": [
      "Prime numbers between 1 and 11: [2, 3, 5, 7, 11]\n"
     ]
    }
   ],
   "source": [
    "def is_prime(n):\n",
    "    if n <= 1:\n",
    "        return False\n",
    "    for i in range(2, n):\n",
    "        if n % i == 0:\n",
    "            return False\n",
    "    return True\n",
    "\n",
    "def prime_numbers_between(start, end):\n",
    "    primes = []\n",
    "    for number in range(start, end + 1):\n",
    "        if is_prime(number):\n",
    "            primes.append(number)\n",
    "    return primes\n",
    "\n",
    "\n",
    "start = int(input(\"Enter start : \"))\n",
    "end = int(input(\"Enter end : \"))\n",
    "print(f\"Prime numbers between {start} and {end}: {prime_numbers_between(start, end)}\")\n"
   ]
  },
  {
   "cell_type": "markdown",
   "metadata": {},
   "source": [
    "### 05) Write a function that returns True if the given string is Palindrome or False otherwise."
   ]
  },
  {
   "cell_type": "code",
   "execution_count": 1,
   "metadata": {},
   "outputs": [
    {
     "name": "stdin",
     "output_type": "stream",
     "text": [
      "Enter String :  abcba\n"
     ]
    },
    {
     "name": "stdout",
     "output_type": "stream",
     "text": [
      "Is the string \"abcba\" a palindrome? True\n"
     ]
    }
   ],
   "source": [
    "def is_palindrome(s):    \n",
    "    str1 = ''.join(char.lower() for char in s if char.isalnum())\n",
    "    return str1 == str1[::-1]\n",
    "\n",
    "string = input(\"Enter String : \")\n",
    "print(f\"Is the string \\\"{string}\\\" a palindrome? {is_palindrome(string)}\")"
   ]
  },
  {
   "cell_type": "markdown",
   "metadata": {},
   "source": [
    "### 06) Write a function that returns the sum of all the elements of the list."
   ]
  },
  {
   "cell_type": "code",
   "execution_count": 4,
   "metadata": {},
   "outputs": [
    {
     "name": "stdin",
     "output_type": "stream",
     "text": [
      "Enter Number With Comma :  1,2,3,4,5\n"
     ]
    },
    {
     "name": "stdout",
     "output_type": "stream",
     "text": [
      "The sum of all elements in the list is 15\n"
     ]
    }
   ],
   "source": [
    "def sum_of_elements(lst):\n",
    "    total_sum = 0\n",
    "    for element in lst:\n",
    "        total_sum += element\n",
    "    return total_sum\n",
    "\n",
    "element = input(\"Enter Number With Comma : \")\n",
    "list1=[int(i) for i in element.split(',')]\n",
    "print(f\"The sum of all elements in the list is {sum_of_elements(list1)}\")"
   ]
  },
  {
   "cell_type": "markdown",
   "metadata": {},
   "source": [
    "### 07) Write a function to calculate the sum of the first element of each tuples inside the list."
   ]
  },
  {
   "cell_type": "code",
   "execution_count": 12,
   "metadata": {},
   "outputs": [
    {
     "name": "stdin",
     "output_type": "stream",
     "text": [
      "Enter a list of tuples (EX.(1, 2)):  (1,2),(6,4),(4,8)\n"
     ]
    },
    {
     "name": "stdout",
     "output_type": "stream",
     "text": [
      "The sum of the first elements in the list of tuples is : 11\n"
     ]
    }
   ],
   "source": [
    "def sum_of_first_elements():\n",
    "    user_input = input(\"Enter a list of tuples (EX.(1, 2)): \")\n",
    "    \n",
    "    list_of_tuples = eval(user_input)\n",
    "    \n",
    "    total_sum = sum(tup[0] for tup in list_of_tuples)\n",
    "    \n",
    "    return total_sum\n",
    "\n",
    "print(f\"The sum of the first elements in the list of tuples is : {sum_of_first_elements()}\")\n"
   ]
  },
  {
   "cell_type": "markdown",
   "metadata": {},
   "source": [
    "### 08) Write a recursive function to find nth term of Fibonacci Series."
   ]
  },
  {
   "cell_type": "code",
   "execution_count": 20,
   "metadata": {},
   "outputs": [
    {
     "name": "stdin",
     "output_type": "stream",
     "text": [
      "Enter Number :  5\n"
     ]
    },
    {
     "name": "stdout",
     "output_type": "stream",
     "text": [
      "The 5th term of the Fibonacci series is : 3\n"
     ]
    }
   ],
   "source": [
    "def fibonacci(n):\n",
    "    if n <= 0:\n",
    "        return \"Input should be a positive integer.\"\n",
    "    elif n == 1:\n",
    "        return 0\n",
    "    elif n == 2:\n",
    "        return 1\n",
    "    else:\n",
    "        return fibonacci(n-1) + fibonacci(n-2)\n",
    "\n",
    "n=int(input(\"Enter Number : \"))\n",
    "print(f\"The {n}th term of the Fibonacci series is : {fibonacci(n)}\")"
   ]
  },
  {
   "cell_type": "markdown",
   "metadata": {},
   "source": [
    "### 09) Write a function to get the name of the student based on the given rollno.\n",
    "#### Example: Given dict1 = {101:'Ajay', 102:'Rahul', 103:'Jay', 104:'Pooja'} find name of student whose rollno = 103"
   ]
  },
  {
   "cell_type": "code",
   "execution_count": 31,
   "metadata": {},
   "outputs": [
    {
     "name": "stdin",
     "output_type": "stream",
     "text": [
      "How many students do you want to enter?  3\n",
      "Enter roll number:  1\n",
      "Enter name:  Jeet\n",
      "Enter roll number:  2\n",
      "Enter name:  bhavy\n",
      "Enter roll number:  3\n",
      "Enter name:  bhalodi\n",
      "Enter the roll number to search for:  2\n"
     ]
    },
    {
     "name": "stdout",
     "output_type": "stream",
     "text": [
      "The name of the student is bhavy\n"
     ]
    }
   ],
   "source": [
    "def get_student_name(student_dict,rollno):\n",
    "\n",
    "    return student_dict.get(rollno, \"Roll number not found\")\n",
    "\n",
    "student_dict = {}\n",
    "num_entries = int(input(\"How many students do you want to enter? \"))\n",
    "    \n",
    "for _ in range(num_entries):\n",
    "    rollno = int(input(\"Enter roll number: \"))\n",
    "    name = input(\"Enter name: \")\n",
    "    student_dict[rollno] = name\n",
    "\n",
    "rollno = int(input(\"Enter the roll number to search for: \"))\n",
    "print(f\"The name of the student is {get_student_name(student_dict,rollno)}\")"
   ]
  },
  {
   "cell_type": "markdown",
   "metadata": {},
   "source": [
    "### 10) Write a function to get the sum of the scores ending with zero.\n",
    "#### Example : scores = [200, 456, 300, 100, 234, 678] \n",
    "#### Ans = 200 + 300 + 100 = 600"
   ]
  },
  {
   "cell_type": "code",
   "execution_count": 35,
   "metadata": {},
   "outputs": [
    {
     "name": "stdin",
     "output_type": "stream",
     "text": [
      "Enter Number With Comma :  200,456,300,100,234,678\n"
     ]
    },
    {
     "name": "stdout",
     "output_type": "stream",
     "text": [
      "The sum of the scores ending with zero is : 600\n"
     ]
    }
   ],
   "source": [
    "def sum_of_scores_ending_with_zero(scores):\n",
    "    total_sum = 0\n",
    "    for score in scores:\n",
    "        if score % 10 == 0:\n",
    "            total_sum += score\n",
    "    return total_sum\n",
    "\n",
    "element = input(\"Enter Number With Comma : \")\n",
    "scores=[int(i) for i in element.split(',')]\n",
    "\n",
    "print(f\"The sum of the scores ending with zero is : {sum_of_scores_ending_with_zero(scores)}\")"
   ]
  },
  {
   "cell_type": "markdown",
   "metadata": {},
   "source": [
    "### 11) Write a function to invert a given Dictionary.\n",
    "#### hint: keys to values & values to keys\n",
    "#### Before : {'a': 10, 'b':20, 'c':30, 'd':40}\n",
    "#### After : {10:'a', 20:'b', 30:'c', 40:'d'}"
   ]
  },
  {
   "cell_type": "code",
   "execution_count": 39,
   "metadata": {},
   "outputs": [
    {
     "name": "stdin",
     "output_type": "stream",
     "text": [
      "How many entries do you want to enter?  3\n",
      "Enter key :  1\n",
      "Enter values :  a\n",
      "Enter key :  2\n",
      "Enter values :  b\n",
      "Enter key :  3\n",
      "Enter values :  c\n"
     ]
    },
    {
     "name": "stdout",
     "output_type": "stream",
     "text": [
      "Original dictionary: {1: 'a', 2: 'b', 3: 'c'}\n",
      "Inverted dictionary: {'a': 1, 'b': 2, 'c': 3}\n"
     ]
    }
   ],
   "source": [
    "def invert_dictionary(d):\n",
    "    return {value: key for key, value in d.items()}\n",
    "\n",
    "dict1 = {}\n",
    "entries = int(input(\"How many entries do you want to enter? \"))\n",
    "    \n",
    "for _ in range(entries):\n",
    "    key = int(input(\"Enter key : \"))\n",
    "    values = input(\"Enter values : \")\n",
    "    dict1[key] = values\n",
    "dict2 = invert_dictionary(dict1)\n",
    "print(f\"Original dictionary: {dict1}\")\n",
    "print(f\"Inverted dictionary: {dict2}\")\n"
   ]
  },
  {
   "cell_type": "markdown",
   "metadata": {},
   "source": [
    "### 12) Write a function to check whether the given string is Pangram or not.\n",
    "#### hint: Pangram is a string containing all the characters a-z atlest once.\n",
    "#### \"the quick brown fox jumps over the lazy dog\" is a Pangram string."
   ]
  },
  {
   "cell_type": "code",
   "execution_count": 41,
   "metadata": {},
   "outputs": [
    {
     "name": "stdout",
     "output_type": "stream",
     "text": [
      "Is the string \"the quick brown fox jumps over the lazy dog\" a pangram? True\n"
     ]
    }
   ],
   "source": [
    "def is_pangram(s):\n",
    "    alphabet = set('abcdefghijklmnopqrstuvwxyz')\n",
    "\n",
    "    s_set = set(s.lower())\n",
    "    \n",
    "    return alphabet.issubset(s_set)\n",
    "\n",
    "string = \"the quick brown fox jumps over the lazy dog\"\n",
    "print(f\"Is the string \\\"{string}\\\" a pangram? {is_pangram(string)}\")\n"
   ]
  },
  {
   "cell_type": "markdown",
   "metadata": {},
   "source": [
    "### 13) Write a function that returns the number of uppercase and lowercase letters in the given string. \n",
    "#### example : Input : s1 = AbcDEfgh ,Ouptput : no_upper = 3, no_lower = 5"
   ]
  },
  {
   "cell_type": "code",
   "execution_count": 8,
   "metadata": {},
   "outputs": [
    {
     "name": "stdin",
     "output_type": "stream",
     "text": [
      "Enter String JeEt BhAlOdI\n"
     ]
    },
    {
     "name": "stdout",
     "output_type": "stream",
     "text": [
      "Input: JeEt BhAlOdI\n",
      "Output: no_upper = 6, no_lower = 5\n"
     ]
    }
   ],
   "source": [
    "def count_upper_lower(s):\n",
    "    no_upper = sum(1 for char in s if char.isupper())\n",
    "    no_lower = sum(1 for char in s if char.islower())\n",
    "    return no_upper, no_lower\n",
    "\n",
    "s1 = input(\"Enter String\")\n",
    "no_upper, no_lower = count_upper_lower(s1)\n",
    "print(f\"Input: {s1}\\nOutput: no_upper = {no_upper}, no_lower = {no_lower}\")\n"
   ]
  },
  {
   "cell_type": "markdown",
   "metadata": {},
   "source": [
    "### 14) Write a lambda function to get smallest number from the given two numbers."
   ]
  },
  {
   "cell_type": "code",
   "execution_count": 49,
   "metadata": {},
   "outputs": [
    {
     "name": "stdin",
     "output_type": "stream",
     "text": [
      "Enter number1 :  1\n",
      "Enter number2 :  4\n"
     ]
    },
    {
     "name": "stdout",
     "output_type": "stream",
     "text": [
      "The smallest number is : 1\n"
     ]
    }
   ],
   "source": [
    "min_number = lambda a, b: a if a < b else b\n",
    "\n",
    "a = int(input(\"Enter number1 : \"))\n",
    "b = int(input(\"Enter number2 : \"))\n",
    "print(f\"The smallest number is : {min_number(a, b)}\")"
   ]
  },
  {
   "cell_type": "markdown",
   "metadata": {},
   "source": [
    "### 15) For the given list of names of students, extract the names having more that 7 characters. Use filter()."
   ]
  },
  {
   "cell_type": "code",
   "execution_count": 51,
   "metadata": {},
   "outputs": [
    {
     "name": "stdout",
     "output_type": "stream",
     "text": [
      "Names with more than 7 characters: ['Alexander', 'Catherine', 'Francesca']\n"
     ]
    }
   ],
   "source": [
    "def has_more_than_seven_chars(name):\n",
    "    return len(name) > 7\n",
    "\n",
    "student_names = [\"Alexander\", \"Ben\", \"Catherine\", \"Daniel\", \"Emily\", \"Francesca\", \"George\"]\n",
    "\n",
    "long_names = list(filter(has_more_than_seven_chars, student_names))\n",
    "\n",
    "print(f\"Names with more than 7 characters: {long_names}\")\n"
   ]
  },
  {
   "cell_type": "markdown",
   "metadata": {},
   "source": [
    "### 16) For the given list of names of students, convert the first letter of all the names into uppercase. use map()."
   ]
  },
  {
   "cell_type": "code",
   "execution_count": 57,
   "metadata": {},
   "outputs": [
    {
     "name": "stdout",
     "output_type": "stream",
     "text": [
      "Names with more than 7 characters: ['Jeet', 'Bhavy', 'Bhalodi']\n"
     ]
    }
   ],
   "source": [
    "def name_first_upper(name):\n",
    "    return name.capitalize()\n",
    "\n",
    "student_names = ['jeet','bhavy','bhalodi']\n",
    "\n",
    "ans = list(map(name_first_upper, student_names))\n",
    "\n",
    "print(f\"Names with more than 7 characters: {ans}\")"
   ]
  },
  {
   "cell_type": "markdown",
   "metadata": {},
   "source": [
    "### 17) Write udfs to call the functions with following types of arguments:\n",
    "1. Positional Arguments\n",
    "2. Keyword Arguments\n",
    "3. Default Arguments\n",
    "4. Variable Legngth Positional(*args) & variable length Keyword Arguments (**kwargs)\n",
    "5. Keyword-Only & Positional Only Arguments"
   ]
  },
  {
   "cell_type": "code",
   "execution_count": 78,
   "metadata": {},
   "outputs": [
    {
     "name": "stdout",
     "output_type": "stream",
     "text": [
      "Positional Arguments :  8\n",
      "Keyword Arguments :  15\n",
      "Default Arguments :  5\n",
      "Default Arguments :  7\n",
      "Variable Legngth Positional(*args) :  10\n",
      "variable length Keyword Arguments (**kwargs) :  a=1, b=2, c=3\n",
      "Keyword-Only :  5.0\n",
      "Positional Only :  8\n"
     ]
    }
   ],
   "source": [
    "# Positional Arguments\n",
    "def positional_args(a, b): \n",
    "    return a + b     \n",
    "print(\"Positional Arguments : \",positional_args(3, 5))\n",
    "\n",
    "# Keyword Arguments\n",
    "def keyword_args(a, b):\n",
    "    return a * b\n",
    "print(\"Keyword Arguments : \",keyword_args(a=3, b=5))\n",
    "\n",
    "# Default Arguments\n",
    "def default_args(a, b=5):\n",
    "    return a - b\n",
    "print(\"Default Arguments : \",default_args(10)) \n",
    "print(\"Default Arguments : \",default_args(10, 3))  \n",
    "\n",
    "# Variable Legngth Positional(*args)\n",
    "def var_length_positional_args(*args):\n",
    "    return sum(args)\n",
    "print(\"Variable Legngth Positional(*args) : \",var_length_positional_args(1, 2, 3, 4))\n",
    "\n",
    "# variable length Keyword Arguments (**kwargs)\n",
    "def var_length_keyword_args(**kwargs):\n",
    "    return \", \".join(f\"{key}={value}\" for key, value in kwargs.items())\n",
    "print(\"variable length Keyword Arguments (**kwargs) : \",var_length_keyword_args(a=1, b=2, c=3))\n",
    "\n",
    "# Keyword-Only\n",
    "def keyword_only_args(*, a, b):\n",
    "    return a / b\n",
    "print(\"Keyword-Only : \",keyword_only_args(a=10, b=2))\n",
    "\n",
    "# Positional Only\n",
    "def positional_only_args(a, b, /):\n",
    "    return a ** b\n",
    "print(\"Positional Only : \",positional_only_args(2, 3))"
   ]
  }
 ],
 "metadata": {
  "kernelspec": {
   "display_name": "Python 3 (ipykernel)",
   "language": "python",
   "name": "python3"
  },
  "language_info": {
   "codemirror_mode": {
    "name": "ipython",
    "version": 3
   },
   "file_extension": ".py",
   "mimetype": "text/x-python",
   "name": "python",
   "nbconvert_exporter": "python",
   "pygments_lexer": "ipython3",
   "version": "3.12.7"
  }
 },
 "nbformat": 4,
 "nbformat_minor": 4
}
